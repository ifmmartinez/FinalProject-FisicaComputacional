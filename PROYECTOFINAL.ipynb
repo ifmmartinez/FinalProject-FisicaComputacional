{
 "cells": [
  {
   "cell_type": "markdown",
   "metadata": {},
   "source": [
    "##PROYECTO FINAL"
   ]
  },
  {
   "cell_type": "markdown",
   "metadata": {},
   "source": [
    "###MARIO ALBERTO MARTÍNEZ HERRERA"
   ]
  },
  {
   "cell_type": "markdown",
   "metadata": {},
   "source": [
    "#####UN POCO DE ÁLGEBRA LINEAL CON INTERVALOS"
   ]
  },
  {
   "cell_type": "markdown",
   "metadata": {},
   "source": [
    "El proyecto final para la clase de métodos númericos avanzados, descrito en este notebook, tratará con la problemática de las soluciones a ecuaciones lineales con intervalos desde varios métodos de soluciones directos e iterativos, con la finalidad de comparar la fiabilidad, la convergencia y la sencillez de cada uno.\n",
    "Los métodos a implementar son, el directo (eliminación de Gauss), la versión linear de Krawczyk y el Gauss-Seidel. Por último se intentará extender lo antes descrito para una ecuación de eigenvalores."
   ]
  },
  {
   "cell_type": "markdown",
   "metadata": {},
   "source": [
    "Una aplicación directa de este tipode problemas es el caso en el las resistencias de una mallado eléctrico son tomadas con su toleracia incluida, y no sólo con un número fijo, es decir, con un intervalo. Y, Por lo tanto, las corrientes resultado también estarán dadas por un intervalo."
   ]
  },
  {
   "cell_type": "code",
   "execution_count": 3,
   "metadata": {
    "collapsed": false
   },
   "outputs": [],
   "source": [
    "using Intervalos\n",
    "using IntervalMatrices\n",
    "using PyPlot;"
   ]
  },
  {
   "cell_type": "markdown",
   "metadata": {},
   "source": [
    "Un ejemplo, está dado por los siguientes valores, note que al ser una Matriz de 2x2, corresponde a una unión de dos mallas"
   ]
  },
  {
   "cell_type": "code",
   "execution_count": 6,
   "metadata": {
    "collapsed": true
   },
   "outputs": [],
   "source": [
    "R1=Interval(900,1100)\n",
    "R2=Interval(900,1100)\n",
    "R3=Interval(900,1100)\n",
    "\n",
    "V1=Interval(10)\n",
    "V2=Interval(5)\n",
    "A=[R1+R2 -R2;-R2 R2+R3]\n",
    "b=[V1;-V2];"
   ]
  },
  {
   "cell_type": "markdown",
   "metadata": {},
   "source": [
    "Por métodos directos"
   ]
  },
  {
   "cell_type": "code",
   "execution_count": 4,
   "metadata": {
    "collapsed": false
   },
   "outputs": [
    {
     "data": {
      "text/plain": [
       "2-element Array{Interval,1}:\n",
       " Interval(0.004227994227994228,0.006029786400156771)   \n",
       " Interval(-0.0006349206349206357,0.0007760141093474431)"
      ]
     },
     "execution_count": 4,
     "metadata": {},
     "output_type": "execute_result"
    }
   ],
   "source": [
    "GaussianElimination2x2(A,b)"
   ]
  },
  {
   "cell_type": "code",
   "execution_count": 5,
   "metadata": {
    "collapsed": false
   },
   "outputs": [
    {
     "data": {
      "text/plain": [
       "2-element Array{Interval,1}:\n",
       " Interval(0.0037190082644628095,0.006790123456790124)\n",
       " Interval(0.0,0.0)                                   "
      ]
     },
     "execution_count": 5,
     "metadata": {},
     "output_type": "execute_result"
    }
   ],
   "source": [
    "CramerRule(A,b)"
   ]
  },
  {
   "cell_type": "markdown",
   "metadata": {},
   "source": [
    "Los métodos directos no son muy recomendados para usarse con el álgebra de Intervalos, debido a:"
   ]
  },
  {
   "cell_type": "markdown",
   "metadata": {},
   "source": [
    "Ambigüedad en el pivoteo de la matriz"
   ]
  },
  {
   "cell_type": "markdown",
   "metadata": {},
   "source": [
    "Ambigüedad en las definiciones de los determinantes "
   ]
  },
  {
   "cell_type": "markdown",
   "metadata": {},
   "source": [
    "Debido a ello, es de gran ayuda implementar métodos iterativos para encontrar el acotamiento de la solución, mediante pasos sencillos"
   ]
  },
  {
   "cell_type": "markdown",
   "metadata": {},
   "source": [
    "##Krawczyk Method"
   ]
  },
  {
   "cell_type": "markdown",
   "metadata": {},
   "source": [
    "Si multiplicamos el problema inicial por una matriz auxiliar $Y$ [Una aproximada a la inversa de m(A)]; y definimos $E=I-YA$. De tal manera que se puede escribir de una forma iterativa"
   ]
  },
  {
   "cell_type": "markdown",
   "metadata": {},
   "source": [
    "$X^{(k+1)}=\\{ Yb + E X^{(k)}\\}\\cap X^{(k)} $"
   ]
  },
  {
   "cell_type": "markdown",
   "metadata": {},
   "source": [
    "con un vector de iniciación"
   ]
  },
  {
   "cell_type": "markdown",
   "metadata": {},
   "source": [
    "$X^{(0)}_{i}=\\frac{||Yb||}{(1-||E||)}[-1,1]$"
   ]
  },
  {
   "cell_type": "markdown",
   "metadata": {},
   "source": [
    "La convergencia de este método depende de que tanbuena sea la aproximación para $Y$, es decir, a la inversa de los puntos medios de $A$"
   ]
  },
  {
   "cell_type": "code",
   "execution_count": 11,
   "metadata": {
    "collapsed": false
   },
   "outputs": [
    {
     "data": {
      "text/plain": [
       "8-element Array{Interval,1}:\n",
       " Interval(0.002857142857142852,0.007142857142857148) \n",
       " Interval(0.003523809523809519,0.00647619047619048)  \n",
       " Interval(0.003746031746031742,0.006253968253968257) \n",
       " Interval(0.0038134391534391495,0.00618656084656085) \n",
       " Interval(0.0038336860670193968,0.006166313932980602)\n",
       " Interval(0.0038397609641387383,0.006160239035861261)\n",
       " Interval(0.003841583460709383,0.006158416539290616) \n",
       " Interval(0.003842130210595071,0.006157869789404928) "
      ]
     },
     "execution_count": 11,
     "metadata": {},
     "output_type": "execute_result"
    }
   ],
   "source": [
    "X=Interval[]\n",
    "for i=1:8\n",
    "    push!(X,KrawczykMethod(A,b,i)[1])\n",
    "end\n",
    "X"
   ]
  },
  {
   "cell_type": "code",
   "execution_count": 12,
   "metadata": {
    "collapsed": false
   },
   "outputs": [
    {
     "data": {
      "text/plain": [
       "8-element Array{Interval,1}:\n",
       " Interval(-0.0021428571428571477,0.0021428571428571477)\n",
       " Interval(-0.0013095238095238127,0.0013095238095238127)\n",
       " Interval(-0.0010817460317460344,0.0010817460317460344)\n",
       " Interval(-0.0010141534391534415,0.0010141534391534415)\n",
       " Interval(-0.0009939003527336882,0.0009939003527336882)\n",
       " Interval(-0.0009878252498530297,0.0009878252498530297)\n",
       " Interval(-0.0009860027464236745,0.0009860027464236745)\n",
       " Interval(-0.0009854559963093626,0.0009854559963093626)"
      ]
     },
     "execution_count": 12,
     "metadata": {},
     "output_type": "execute_result"
    }
   ],
   "source": [
    "Y=Interval[]\n",
    "for i=1:8\n",
    "    push!(Y,KrawczykMethod(A,b,i)[2])\n",
    "end\n",
    "Y"
   ]
  },
  {
   "cell_type": "markdown",
   "metadata": {},
   "source": [
    "##Gauss-Seidel"
   ]
  },
  {
   "cell_type": "markdown",
   "metadata": {},
   "source": [
    "Introducido por Hansel et al. y es una versión para intervalos, de la clásica interación de Gauss-Seidel. Y como el método anterior, busca acotar la solución para el sistema de ecuaciones. Y, bajo una transformación, usando una matriz auxiliar Y [normalmente la misma que la del método pasádo] llegar"
   ]
  },
  {
   "cell_type": "markdown",
   "metadata": {},
   "source": [
    "$G X=C$ donde $G=Y A$ y $C=Y b$"
   ]
  },
  {
   "cell_type": "markdown",
   "metadata": {},
   "source": [
    "donde la solución, sigue la siguiente iteración"
   ]
  },
  {
   "cell_type": "markdown",
   "metadata": {},
   "source": [
    "$X^{(0)}_{i}$ se tiene que proporcionar"
   ]
  },
  {
   "cell_type": "markdown",
   "metadata": {},
   "source": [
    "$\\hat{X}^{(k+1)}_{i}= \\frac{1}{G_{i,i}}\\{C_{i}-\\sum_{j=1}^{i-1} G_{i,j}X_{j}^{(k+1)}-\\sum_{j=i+1}^{n}G_{i,j}X_{j}^{(k)}\\}$ con $i=1,2,...,n$"
   ]
  },
  {
   "cell_type": "markdown",
   "metadata": {},
   "source": [
    "$X^{(k+1)}_{i}=\\hat{X}^{(k+1)}_{i}\\cap X^{(k)}_{i}$"
   ]
  },
  {
   "cell_type": "markdown",
   "metadata": {},
   "source": [
    "Puesto que el vector con el que se va a iniciar la iteración está dado por el usuario, la convergencia dependerá tanto de ese vector como de la matriz auxiliar"
   ]
  },
  {
   "cell_type": "code",
   "execution_count": 13,
   "metadata": {
    "collapsed": false
   },
   "outputs": [
    {
     "data": {
      "text/plain": [
       "8-element Array{Interval,1}:\n",
       " Interval(-0.1540000000000001,0.1660000000000001)    \n",
       " Interval(-0.019600000000000034,0.03160000000000004) \n",
       " Interval(0.001359999999999995,0.010096000000000008) \n",
       " Interval(0.0038175999999999983,0.006655360000000002)\n",
       " Interval(0.004210815999999999,0.0061048576)         \n",
       " Interval(0.004273730559999999,0.006016777216)       \n",
       " Interval(0.0042837968896,0.00600268435456)          \n",
       " Interval(0.004285407502336,0.006000429496729599)    "
      ]
     },
     "execution_count": 13,
     "metadata": {},
     "output_type": "execute_result"
    }
   ],
   "source": [
    "x0=[Interval(-1,1);Interval(-1,1)]\n",
    "X=Interval[]\n",
    "for i=1:8\n",
    "    push!(X,GaussSeidel(A,b,x0,i)[1])\n",
    "end\n",
    "X"
   ]
  },
  {
   "cell_type": "code",
   "execution_count": 14,
   "metadata": {
    "collapsed": false
   },
   "outputs": [
    {
     "data": {
      "text/plain": [
       "8-element Array{Interval,1}:\n",
       " Interval(0.0,0.8060000000000005)                    \n",
       " Interval(0.0,0.13400000000000017)                   \n",
       " Interval(0.0,0.026480000000000045)                  \n",
       " Interval(0.001945142857142851,0.009276800000000009) \n",
       " Interval(0.003911222857142856,0.006524288000000001) \n",
       " Interval(0.004225795657142857,0.00608388608)        \n",
       " Interval(0.0042761273051428565,0.0060134217728)     \n",
       " Interval(0.004284180368822857,0.0060021474836479995)"
      ]
     },
     "execution_count": 14,
     "metadata": {},
     "output_type": "execute_result"
    }
   ],
   "source": [
    "x0=[Interval(0,5);Interval(-3,5)]\n",
    "X=Interval[]\n",
    "for i=1:8\n",
    "    push!(X,GaussSeidel(A,b,x0,i)[1])\n",
    "end\n",
    "X"
   ]
  },
  {
   "cell_type": "code",
   "execution_count": 15,
   "metadata": {
    "collapsed": false
   },
   "outputs": [
    {
     "data": {
      "text/plain": [
       "8-element Array{Interval,1}:\n",
       " Interval(-0.8000000000000005,0.8000000000000005)      \n",
       " Interval(-0.12800000000000017,0.12800000000000017)    \n",
       " Interval(-0.020480000000000043,0.020480000000000043)  \n",
       " Interval(-0.003276800000000009,0.003276800000000009)  \n",
       " Interval(-0.0005242880000000013,0.0005242880000000013)\n",
       " Interval(-8.388607999999978e-5,8.388607999999978e-5)  \n",
       " Interval(-1.3421772799999455e-5,1.3421772799999455e-5)\n",
       " Interval(-2.147483647999394e-6,2.147483647999394e-6)  "
      ]
     },
     "execution_count": 15,
     "metadata": {},
     "output_type": "execute_result"
    }
   ],
   "source": [
    "x0=[Interval(0,5);Interval(-3,5)]\n",
    "Y=Interval[]\n",
    "for i=1:8\n",
    "    push!(Y,GaussSeidel(A,b,x0,i)[2])\n",
    "end\n",
    "Y"
   ]
  }
 ],
 "metadata": {
  "kernelspec": {
   "display_name": "Julia 0.3.8",
   "language": "julia",
   "name": "julia-0.3"
  },
  "language_info": {
   "name": "julia",
   "version": "0.3.8"
  }
 },
 "nbformat": 4,
 "nbformat_minor": 0
}
