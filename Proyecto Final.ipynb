{
 "cells": [
  {
   "cell_type": "code",
   "execution_count": 21,
   "metadata": {
    "collapsed": true
   },
   "outputs": [],
   "source": [
    "workspace()"
   ]
  },
  {
   "cell_type": "markdown",
   "metadata": {},
   "source": [
    "El proyecto final para la clase de métodos númericos avanzados, descrito en este notebook, tratará con la problemática de las soluciones a ecuaciones lineales con intervalos desde varios métodos de soluciones directos e iterativos, con la finalidad de comparar la fiabilidad, la convergencia y la sencillez de cada uno.\n",
    "\n",
    "Los métodos a implementar son, el directo (eliminación de Gauss), la versión linear de Krawczyk y el Hansel-Sengupta. Por último se intentará extender lo antes descrito para una ecuación de eigenvalores."
   ]
  },
  {
   "cell_type": "markdown",
   "metadata": {},
   "source": [
    "Una aplicación directa de este tipode problemas es el caso en el las resistencias de una mallado eléctrico son tomadas con su toleracia incluida, y no sólo con un número fijo, es decir, con un intervalo. Y, Por lo tanto, las corrientes resultado también estarán dadas por un intervalo."
   ]
  },
  {
   "cell_type": "code",
   "execution_count": 108,
   "metadata": {
    "collapsed": false
   },
   "outputs": [],
   "source": [
    "using Intervalos"
   ]
  },
  {
   "cell_type": "code",
   "execution_count": 262,
   "metadata": {
    "collapsed": false
   },
   "outputs": [
    {
     "data": {
      "text/plain": [
       "midpoint (generic function with 1 method)"
      ]
     },
     "execution_count": 262,
     "metadata": {},
     "output_type": "execute_result"
    }
   ],
   "source": [
    "function -(x::Interval) #Había olvidado definir estas operación en el módulo\n",
    "    return Interval(-x.right, -x.left)\n",
    "end\n",
    "\n",
    "function midpoint(N::Interval) #PuntoMedio\n",
    "      return (N.left+N.right)/2\n",
    "end"
   ]
  },
  {
   "cell_type": "code",
   "execution_count": 180,
   "metadata": {
    "collapsed": false
   },
   "outputs": [
    {
     "data": {
      "text/plain": [
       "midpoint (generic function with 3 methods)"
      ]
     },
     "execution_count": 180,
     "metadata": {},
     "output_type": "execute_result"
    }
   ],
   "source": [
    "type IntervalVector #Defino un Vector de intervalos\n",
    "    row::Vector{Interval}\n",
    "end\n",
    "\n",
    "\n",
    "function Base.length(x::IntervalVector) #Cuantos intervalos contiene el vector \n",
    "    length(x.row)\n",
    "end\n",
    "\n",
    "function midpoint(x::IntervalVector) #Punto medio de un vector de intervalos\n",
    "    mid=Real[]\n",
    "    for i=1:length(x)\n",
    "        push!(mid,midpoint(x.row[i]))\n",
    "    end\n",
    "    return mid\n",
    "end"
   ]
  },
  {
   "cell_type": "code",
   "execution_count": 182,
   "metadata": {
    "collapsed": false
   },
   "outputs": [
    {
     "data": {
      "text/plain": [
       "midpoint (generic function with 3 methods)"
      ]
     },
     "execution_count": 182,
     "metadata": {},
     "output_type": "execute_result"
    }
   ],
   "source": [
    "type IntervalMatrix #Defino una matrix de intervalos\n",
    "    rows::Vector{IntervalVector}\n",
    "end\n",
    "\n",
    "#Definí una matriz de intervalos donde las columnas están descritas por cada vector proporcionado\n",
    "\n",
    "function midpoint(M::IntervalMatrix)\n",
    "    mid1=Vector[]\n",
    "    for i=1:length(M.rows)\n",
    "        push!(mid1,midpoint(M.rows[i]))\n",
    "    end\n",
    "    return mid1\n",
    "end"
   ]
  },
  {
   "cell_type": "code",
   "execution_count": 192,
   "metadata": {
    "collapsed": false
   },
   "outputs": [
    {
     "data": {
      "text/plain": [
       "IntervalVector([Interval(1800,2200),Interval(-1100,-900)])"
      ]
     },
     "execution_count": 192,
     "metadata": {},
     "output_type": "execute_result"
    }
   ],
   "source": [
    "A.rows[1]"
   ]
  },
  {
   "cell_type": "code",
   "execution_count": null,
   "metadata": {
    "collapsed": true
   },
   "outputs": [],
   "source": [
    "function *(M::IntervalMatrix, N::IntervalMatrix)\n",
    "    if length(M.rows)==length(N.rows[1])\n",
    "        P=Array[]\n",
    "        for i=1:length(M.rows)\n",
    "            #Encuentro cierta dificultad para definir las operaciones de matrices de intervalos, por lo cual, \n",
    "            #intentaré otra manera de definir mis matrices           "
   ]
  },
  {
   "cell_type": "markdown",
   "metadata": {},
   "source": [
    "Intentemos resolver por método directo (eliminación de Gauss)"
   ]
  },
  {
   "cell_type": "code",
   "execution_count": 88,
   "metadata": {
    "collapsed": false
   },
   "outputs": [
    {
     "data": {
      "text/plain": [
       "GaussianElimination (generic function with 1 method)"
      ]
     },
     "execution_count": 88,
     "metadata": {},
     "output_type": "execute_result"
    }
   ],
   "source": [
    "#GaussianElimination 2x2\n",
    "\n",
    "function GaussianElimination(A::IntervalMatrix, b::IntervalVector)\n",
    "    \n",
    "    \n",
    "    a11=A.rows[1].row[1]\n",
    "    a21=A.rows[1].row[2]\n",
    "    a12=A.rows[2].row[1]\n",
    "    a22=A.rows[2].row[2]\n",
    "    \n",
    "    a=a22-(a21/a11)*a12\n",
    "    d=b.row[2]-(a21/a11)*b.row[1]\n",
    "    x2=d/a\n",
    "\n",
    "    c=b.row[1]-a12*x2\n",
    "    x1=c/A.rows[1].row[1]\n",
    "    \n",
    "    return IntervalVector([x1,x2])\n",
    "end"
   ]
  },
  {
   "cell_type": "code",
   "execution_count": 259,
   "metadata": {
    "collapsed": true
   },
   "outputs": [],
   "source": [
    "R1=Interval(900,1100)\n",
    "R2=Interval(900,1100)\n",
    "R3=Interval(900,1100)\n",
    "\n",
    "V1=Interval(10)\n",
    "V2=Interval(5);"
   ]
  },
  {
   "cell_type": "code",
   "execution_count": 345,
   "metadata": {
    "collapsed": false
   },
   "outputs": [
    {
     "ename": "LoadError",
     "evalue": "type: apply: expected Function, got Type{Array{Interval,1}}\nwhile loading In[345], in expression starting on line 1",
     "output_type": "error",
     "traceback": [
      "type: apply: expected Function, got Type{Array{Interval,1}}\nwhile loading In[345], in expression starting on line 1",
      ""
     ]
    }
   ],
   "source": [
    "a1=IntervalVector([R1 + R2, -R2])\n",
    "a2=IntervalVector([-R2, R2 + R3])\n",
    "A=IntervalMatrix([a1, a2])\n",
    "\n",
    "b=IntervalVector([V1, -V2]);"
   ]
  },
  {
   "cell_type": "code",
   "execution_count": 91,
   "metadata": {
    "collapsed": false
   },
   "outputs": [
    {
     "data": {
      "text/plain": [
       "IntervalVector([Interval(0.004227994227994228,0.006029786400156771),Interval(-0.0006349206349206357,0.0007760141093474431)])"
      ]
     },
     "execution_count": 91,
     "metadata": {},
     "output_type": "execute_result"
    }
   ],
   "source": [
    "GaussianElimination(A,b)"
   ]
  },
  {
   "cell_type": "markdown",
   "metadata": {},
   "source": [
    "Lo cual contiene a la solución exacta, es decir, la solución  que daría si no tuvieramos incertidumbre en las resitencias."
   ]
  },
  {
   "cell_type": "markdown",
   "metadata": {},
   "source": [
    "###Buscando la definición más eficiente y fácil de usar"
   ]
  },
  {
   "cell_type": "code",
   "execution_count": 251,
   "metadata": {
    "collapsed": false
   },
   "outputs": [],
   "source": [
    "workspace()\n",
    "using Intervalos"
   ]
  },
  {
   "cell_type": "code",
   "execution_count": 308,
   "metadata": {
    "collapsed": false
   },
   "outputs": [],
   "source": [
    "typealias IntervalMatrix{Interval} Array{Interval,2}\n",
    "#Esto hará que cuando cree funciones pueda llamar IntervalMatrix a lo que yo quiera y \n",
    "#julia detectará que es un Array{Interval,2}  \n",
    "\n",
    "typealias IntervalVector{Interval} Array{Interval,1};"
   ]
  },
  {
   "cell_type": "code",
   "execution_count": 264,
   "metadata": {
    "collapsed": false
   },
   "outputs": [
    {
     "data": {
      "text/plain": [
       "2x2 Array{Interval,2}:\n",
       " Interval(1800,2200)   Interval(-1100,-900)\n",
       " Interval(-1100,-900)  Interval(1800,2200) "
      ]
     },
     "execution_count": 264,
     "metadata": {},
     "output_type": "execute_result"
    }
   ],
   "source": [
    "A=[R1+R2 -R2;-R2 R2+R3]"
   ]
  },
  {
   "cell_type": "code",
   "execution_count": 346,
   "metadata": {
    "collapsed": false
   },
   "outputs": [
    {
     "data": {
      "text/plain": [
       "2-element Array{Interval,1}:\n",
       " Interval(10,10)\n",
       " Interval(-5,-5)"
      ]
     },
     "execution_count": 346,
     "metadata": {},
     "output_type": "execute_result"
    }
   ],
   "source": [
    "b=[V1;-V2]"
   ]
  },
  {
   "cell_type": "code",
   "execution_count": 313,
   "metadata": {
    "collapsed": false
   },
   "outputs": [
    {
     "data": {
      "text/plain": [
       "2x2 Array{Interval,2}:\n",
       " Interval(1,1)  Interval(2,2)\n",
       " Interval(1,1)  Interval(2,2)"
      ]
     },
     "execution_count": 313,
     "metadata": {},
     "output_type": "execute_result"
    }
   ],
   "source": [
    "B=[Interval(1) Interval(2); Interval(1) Interval(2)]"
   ]
  },
  {
   "cell_type": "code",
   "execution_count": 314,
   "metadata": {
    "collapsed": false
   },
   "outputs": [
    {
     "data": {
      "text/plain": [
       "2x2 Array{Interval,2}:\n",
       " Interval(700,1300)  Interval(1400,2600)\n",
       " Interval(700,1300)  Interval(1400,2600)"
      ]
     },
     "execution_count": 314,
     "metadata": {},
     "output_type": "execute_result"
    }
   ],
   "source": [
    "A*B #No tengo que definir las operaciones entre matrices de intervalos, julia ya sabe como multiplicar matrices\n",
    "# y mi modulo ya sabe como hacer las operaciones con intervalos"
   ]
  },
  {
   "cell_type": "code",
   "execution_count": 305,
   "metadata": {
    "collapsed": false
   },
   "outputs": [
    {
     "data": {
      "text/plain": [
       "midpoint (generic function with 2 methods)"
      ]
     },
     "execution_count": 305,
     "metadata": {},
     "output_type": "execute_result"
    }
   ],
   "source": [
    "function midpoint(M::IntervalMatrix)\n",
    "    x=zeros(Real,size(M)[1],size(M)[2])\n",
    "    for i=1:size(M)[1]\n",
    "        for j=1:size(M)[2]\n",
    "            x[i,j]=midpoint(M[i,j])\n",
    "        end\n",
    "    end\n",
    "    return x\n",
    "end"
   ]
  },
  {
   "cell_type": "code",
   "execution_count": 306,
   "metadata": {
    "collapsed": false
   },
   "outputs": [
    {
     "data": {
      "text/plain": [
       "2x2 Array{Real,2}:\n",
       "  2000.0  -1000.0\n",
       " -1000.0   2000.0"
      ]
     },
     "execution_count": 306,
     "metadata": {},
     "output_type": "execute_result"
    }
   ],
   "source": [
    "midpoint(A)"
   ]
  },
  {
   "cell_type": "code",
   "execution_count": 348,
   "metadata": {
    "collapsed": false
   },
   "outputs": [
    {
     "data": {
      "text/plain": [
       "GaussianElimination (generic function with 1 method)"
      ]
     },
     "execution_count": 348,
     "metadata": {},
     "output_type": "execute_result"
    }
   ],
   "source": [
    "#GaussianElimination 2x2\n",
    "\n",
    "function GaussianElimination(A::IntervalMatrix, b::IntervalVector)\n",
    "    \n",
    "\n",
    "    a=A[2,2]-(A[2,1]/A[1,1])*A[1,2]\n",
    "    d=b[2]-(A[2,1]/A[1,1])*b[1]\n",
    "    x2=d/a\n",
    "\n",
    "    c=b[1]-A[1,2]*x2\n",
    "    x1=c/A[1,1]\n",
    "    \n",
    "    \n",
    "    X=[x1,x2]\n",
    "    return X\n",
    "end\n",
    "\n",
    "#Evidentemente esta forma de nombrar es mucho más fácil de usar, en cuanto a indices y en cuanto a operaciones, y\n",
    "# por lo tanto, más fácil de manipular"
   ]
  },
  {
   "cell_type": "code",
   "execution_count": 349,
   "metadata": {
    "collapsed": false
   },
   "outputs": [
    {
     "data": {
      "text/plain": [
       "2-element Array{Interval,1}:\n",
       " Interval(0.004227994227994228,0.006029786400156771)   \n",
       " Interval(-0.0006349206349206357,0.0007760141093474431)"
      ]
     },
     "execution_count": 349,
     "metadata": {},
     "output_type": "execute_result"
    }
   ],
   "source": [
    "GaussianElimination(A,b)"
   ]
  },
  {
   "cell_type": "markdown",
   "metadata": {},
   "source": [
    "##Métodos aproximados"
   ]
  },
  {
   "cell_type": "markdown",
   "metadata": {},
   "source": [
    "Linear Krawczyk Method..."
   ]
  },
  {
   "cell_type": "code",
   "execution_count": null,
   "metadata": {
    "collapsed": true
   },
   "outputs": [],
   "source": []
  }
 ],
 "metadata": {
  "kernelspec": {
   "display_name": "Julia 0.3.8",
   "language": "julia",
   "name": "julia-0.3"
  },
  "language_info": {
   "name": "julia",
   "version": "0.3.8"
  }
 },
 "nbformat": 4,
 "nbformat_minor": 0
}
