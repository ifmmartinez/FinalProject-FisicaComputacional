{
 "cells": [
  {
   "cell_type": "code",
   "execution_count": 21,
   "metadata": {
    "collapsed": true
   },
   "outputs": [],
   "source": [
    "workspace()"
   ]
  },
  {
   "cell_type": "markdown",
   "metadata": {},
   "source": [
    "El proyecto final para la clase de métodos númericos avanzados, descrito en este notebook, tratará con la problemática de las soluciones a ecuaciones lineales con intervalos desde varios métodos de soluciones directos e iterativos, con la finalidad de comparar la fiabilidad, la convergencia y la sencillez de cada uno.\n",
    "\n",
    "Los métodos a implementar son, el directo (eliminación de Gauss), la versión linear de Krawczyk y el Hansel-Sengupta. Por último se intentará extender lo antes descrito para una ecuación de eigenvalores."
   ]
  },
  {
   "cell_type": "markdown",
   "metadata": {},
   "source": [
    "Una aplicación directa de este tipode problemas es el caso en el las resistencias de una mallado eléctrico son tomadas con su toleracia incluida, y no sólo con un número fijo, es decir, con un intervalo. Y, Por lo tanto, las corrientes resultado también estarán dadas por un intervalo."
   ]
  },
  {
   "cell_type": "code",
   "execution_count": 5,
   "metadata": {
    "collapsed": false
   },
   "outputs": [
    {
     "name": "stderr",
     "output_type": "stream",
     "text": [
      "Warning: New definition \n",
      "    promote_type(Type{T<:Number},Type{Interval}) at /home/juser/Untitled Folder/Intervalos.jl:324\n",
      "is ambiguous with: \n",
      "    promote_type(Type{None},Type{T}) at promotion.jl:103.\n",
      "To fix, define \n",
      "    promote_type(Type{None},Type{Interval})\n",
      "before the new definition.\n",
      "Warning: New definition \n",
      "    promote_type(Type{T<:Number},Type{Interval}) at /home/juser/Untitled Folder/Intervalos.jl:324\n",
      "is ambiguous with: \n",
      "    promote_type(Type{T},Type{T}) at promotion.jl:101.\n",
      "To fix, define \n",
      "    promote_type(Type{_<:Number},Type{_<:Number})\n",
      "before the new definition.\n",
      "Warning: using Intervalos.midpoint in module Main conflicts with an existing identifier.\n"
     ]
    }
   ],
   "source": [
    "using Intervalos"
   ]
  },
  {
   "cell_type": "code",
   "execution_count": 15,
   "metadata": {
    "collapsed": false
   },
   "outputs": [
    {
     "data": {
      "text/plain": [
       "midpoint (generic function with 2 methods)"
      ]
     },
     "execution_count": 15,
     "metadata": {},
     "output_type": "execute_result"
    }
   ],
   "source": [
    "function midpoint(N::Interval) #PuntoMedio\n",
    "      return (N.left+N.right)/2\n",
    "end"
   ]
  },
  {
   "cell_type": "code",
   "execution_count": 180,
   "metadata": {
    "collapsed": false
   },
   "outputs": [
    {
     "data": {
      "text/plain": [
       "midpoint (generic function with 3 methods)"
      ]
     },
     "execution_count": 180,
     "metadata": {},
     "output_type": "execute_result"
    }
   ],
   "source": [
    "type IntervalVector #Defino un Vector de intervalos\n",
    "    row::Vector{Interval}\n",
    "end\n",
    "\n",
    "\n",
    "function Base.length(x::IntervalVector) #Cuantos intervalos contiene el vector \n",
    "    length(x.row)\n",
    "end\n",
    "\n",
    "function midpoint(x::IntervalVector) #Punto medio de un vector de intervalos\n",
    "    mid=Real[]\n",
    "    for i=1:length(x)\n",
    "        push!(mid,midpoint(x.row[i]))\n",
    "    end\n",
    "    return mid\n",
    "end"
   ]
  },
  {
   "cell_type": "code",
   "execution_count": 182,
   "metadata": {
    "collapsed": false
   },
   "outputs": [
    {
     "data": {
      "text/plain": [
       "midpoint (generic function with 3 methods)"
      ]
     },
     "execution_count": 182,
     "metadata": {},
     "output_type": "execute_result"
    }
   ],
   "source": [
    "type IntervalMatrix #Defino una matrix de intervalos\n",
    "    rows::Vector{IntervalVector}\n",
    "end\n",
    "\n",
    "#Definí una matriz de intervalos donde las columnas están descritas por cada vector proporcionado\n",
    "\n",
    "function midpoint(M::IntervalMatrix)\n",
    "    mid1=Vector[]\n",
    "    for i=1:length(M.rows)\n",
    "        push!(mid1,midpoint(M.rows[i]))\n",
    "    end\n",
    "    return mid1\n",
    "end"
   ]
  },
  {
   "cell_type": "code",
   "execution_count": 192,
   "metadata": {
    "collapsed": false
   },
   "outputs": [
    {
     "data": {
      "text/plain": [
       "IntervalVector([Interval(1800,2200),Interval(-1100,-900)])"
      ]
     },
     "execution_count": 192,
     "metadata": {},
     "output_type": "execute_result"
    }
   ],
   "source": [
    "A.rows[1]"
   ]
  },
  {
   "cell_type": "code",
   "execution_count": null,
   "metadata": {
    "collapsed": true
   },
   "outputs": [],
   "source": [
    "function *(M::IntervalMatrix, N::IntervalMatrix)\n",
    "    if length(M.rows)==length(N.rows[1])\n",
    "        P=Array[]\n",
    "        for i=1:length(M.rows)\n",
    "            #Encuentro cierta dificultad para definir las operaciones de matrices de intervalos, por lo cual, \n",
    "            #intentaré otra manera de definir mis matrices           "
   ]
  },
  {
   "cell_type": "markdown",
   "metadata": {},
   "source": [
    "Intentemos resolver por método directo (eliminación de Gauss)"
   ]
  },
  {
   "cell_type": "code",
   "execution_count": 88,
   "metadata": {
    "collapsed": false
   },
   "outputs": [
    {
     "data": {
      "text/plain": [
       "GaussianElimination (generic function with 1 method)"
      ]
     },
     "execution_count": 88,
     "metadata": {},
     "output_type": "execute_result"
    }
   ],
   "source": [
    "#GaussianElimination 2x2\n",
    "\n",
    "function GaussianElimination(A::IntervalMatrix, b::IntervalVector)\n",
    "    \n",
    "    \n",
    "    a11=A.rows[1].row[1]\n",
    "    a21=A.rows[1].row[2]\n",
    "    a12=A.rows[2].row[1]\n",
    "    a22=A.rows[2].row[2]\n",
    "    \n",
    "    a=a22-(a21/a11)*a12\n",
    "    d=b.row[2]-(a21/a11)*b.row[1]\n",
    "    x2=d/a\n",
    "\n",
    "    c=b.row[1]-a12*x2\n",
    "    x1=c/A.rows[1].row[1]\n",
    "    \n",
    "    return IntervalVector([x1,x2])\n",
    "end"
   ]
  },
  {
   "cell_type": "code",
   "execution_count": 6,
   "metadata": {
    "collapsed": false
   },
   "outputs": [],
   "source": [
    "R1=Interval(900,1100)\n",
    "R2=Interval(900,1100)\n",
    "R3=Interval(900,1100)\n",
    "\n",
    "V1=Interval(10)\n",
    "V2=Interval(5);"
   ]
  },
  {
   "cell_type": "code",
   "execution_count": 5,
   "metadata": {
    "collapsed": false
   },
   "outputs": [
    {
     "ename": "LoadError",
     "evalue": "type: apply: expected Function, got Type{Array{Interval,1}}\nwhile loading In[5], in expression starting on line 1",
     "output_type": "error",
     "traceback": [
      "type: apply: expected Function, got Type{Array{Interval,1}}\nwhile loading In[5], in expression starting on line 1",
      ""
     ]
    }
   ],
   "source": [
    "a1=IntervalVector([R1 + R2, -R2])\n",
    "a2=IntervalVector([-R2, R2 + R3])\n",
    "A=IntervalMatrix([a1, a2])\n",
    "\n",
    "b=IntervalVector([V1, -V2]);"
   ]
  },
  {
   "cell_type": "code",
   "execution_count": 91,
   "metadata": {
    "collapsed": false
   },
   "outputs": [
    {
     "data": {
      "text/plain": [
       "IntervalVector([Interval(0.004227994227994228,0.006029786400156771),Interval(-0.0006349206349206357,0.0007760141093474431)])"
      ]
     },
     "execution_count": 91,
     "metadata": {},
     "output_type": "execute_result"
    }
   ],
   "source": [
    "GaussianElimination(A,b)"
   ]
  },
  {
   "cell_type": "markdown",
   "metadata": {},
   "source": [
    "Lo cual contiene a la solución exacta, es decir, la solución  que daría si no tuvieramos incertidumbre en las resitencias."
   ]
  },
  {
   "cell_type": "markdown",
   "metadata": {},
   "source": [
    "###Buscando la definición más eficiente y fácil de usar"
   ]
  },
  {
   "cell_type": "code",
   "execution_count": 7,
   "metadata": {
    "collapsed": false
   },
   "outputs": [],
   "source": [
    "typealias IntervalMatrix{Interval} Array{Interval,2}\n",
    "#Esto hará que cuando cree funciones pueda llamar IntervalMatrix a lo que yo quiera y \n",
    "#julia detectará que es un Array{Interval,2}  \n",
    "\n",
    "typealias IntervalVector{Interval} Array{Interval,1};"
   ]
  },
  {
   "cell_type": "code",
   "execution_count": 8,
   "metadata": {
    "collapsed": false
   },
   "outputs": [
    {
     "data": {
      "text/plain": [
       "2x2 Array{Interval,2}:\n",
       " Interval(1800,2200)   Interval(-1100,-900)\n",
       " Interval(-1100,-900)  Interval(1800,2200) "
      ]
     },
     "execution_count": 8,
     "metadata": {},
     "output_type": "execute_result"
    }
   ],
   "source": [
    "A=[R1+R2 -R2;-R2 R2+R3]"
   ]
  },
  {
   "cell_type": "code",
   "execution_count": 9,
   "metadata": {
    "collapsed": false
   },
   "outputs": [
    {
     "data": {
      "text/plain": [
       "2-element Array{Interval,1}:\n",
       " Interval(10,10)\n",
       " Interval(-5,-5)"
      ]
     },
     "execution_count": 9,
     "metadata": {},
     "output_type": "execute_result"
    }
   ],
   "source": [
    "b=[V1;-V2]"
   ]
  },
  {
   "cell_type": "code",
   "execution_count": 11,
   "metadata": {
    "collapsed": false
   },
   "outputs": [
    {
     "data": {
      "text/plain": [
       "2x2 Array{Interval,2}:\n",
       " Interval(1,1)  Interval(2,2)\n",
       " Interval(3,3)  Interval(4,4)"
      ]
     },
     "execution_count": 11,
     "metadata": {},
     "output_type": "execute_result"
    }
   ],
   "source": [
    "B=[Interval(1) Interval(2); Interval(3) Interval(4)]"
   ]
  },
  {
   "cell_type": "code",
   "execution_count": 16,
   "metadata": {
    "collapsed": false
   },
   "outputs": [
    {
     "data": {
      "text/plain": [
       "2x2 Array{Interval,2}:\n",
       " Interval(-1500,-500)  Interval(-800,800) \n",
       " Interval(4300,5700)   Interval(5000,7000)"
      ]
     },
     "execution_count": 16,
     "metadata": {},
     "output_type": "execute_result"
    }
   ],
   "source": [
    "A*B #No tengo que definir las operaciones entre matrices de intervalos, julia ya sabe como multiplicar matrices\n",
    "# y mi modulo ya sabe como hacer las operaciones con intervalos"
   ]
  },
  {
   "cell_type": "code",
   "execution_count": 17,
   "metadata": {
    "collapsed": false
   },
   "outputs": [
    {
     "data": {
      "text/plain": [
       "midpoint (generic function with 2 methods)"
      ]
     },
     "execution_count": 17,
     "metadata": {},
     "output_type": "execute_result"
    }
   ],
   "source": [
    "function midpoint(M::IntervalMatrix)\n",
    "    x=zeros(Real,size(M)[1],size(M)[2])\n",
    "    for i=1:size(M)[1]\n",
    "        for j=1:size(M)[2]\n",
    "            x[i,j]=midpoint(M[i,j])\n",
    "        end\n",
    "    end\n",
    "    return x\n",
    "end"
   ]
  },
  {
   "cell_type": "code",
   "execution_count": 76,
   "metadata": {
    "collapsed": false
   },
   "outputs": [
    {
     "data": {
      "text/plain": [
       "2x2 Array{Real,2}:\n",
       " -1000.0     0.0\n",
       "  5000.0  6000.0"
      ]
     },
     "execution_count": 76,
     "metadata": {},
     "output_type": "execute_result"
    }
   ],
   "source": [
    "midpoint(A*B)"
   ]
  },
  {
   "cell_type": "code",
   "execution_count": 19,
   "metadata": {
    "collapsed": false
   },
   "outputs": [
    {
     "data": {
      "text/plain": [
       "GaussianElimination2x2 (generic function with 1 method)"
      ]
     },
     "execution_count": 19,
     "metadata": {},
     "output_type": "execute_result"
    }
   ],
   "source": [
    "#GaussianElimination 2x2\n",
    "\n",
    "function GaussianElimination2x2(A::IntervalMatrix, b::IntervalVector)\n",
    "    \n",
    "\n",
    "    a=A[2,2]-(A[2,1]/A[1,1])*A[1,2]\n",
    "    d=b[2]-(A[2,1]/A[1,1])*b[1]\n",
    "    x2=d/a\n",
    "\n",
    "    c=b[1]-A[1,2]*x2\n",
    "    x1=c/A[1,1]\n",
    "    \n",
    "    \n",
    "    X=[x1,x2]\n",
    "    return X\n",
    "end\n",
    "\n",
    "#Evidentemente esta forma de nombrar es mucho más fácil de usar, en cuanto a indices y en cuanto a operaciones, y\n",
    "# por lo tanto, más fácil de manipular"
   ]
  },
  {
   "cell_type": "code",
   "execution_count": 21,
   "metadata": {
    "collapsed": false
   },
   "outputs": [
    {
     "data": {
      "text/plain": [
       "2-element Array{Interval,1}:\n",
       " Interval(0.004227994227994228,0.006029786400156771)   \n",
       " Interval(-0.0006349206349206357,0.0007760141093474431)"
      ]
     },
     "execution_count": 21,
     "metadata": {},
     "output_type": "execute_result"
    }
   ],
   "source": [
    "GaussianElimination2x2(A,b)"
   ]
  },
  {
   "cell_type": "code",
   "execution_count": 358,
   "metadata": {
    "collapsed": false
   },
   "outputs": [
    {
     "data": {
      "text/plain": [
       "LU{Float64,Array{Float64,2}}(2x2 Array{Float64,2}:\n",
       " 0.0  0.0\n",
       " 0.0  1.0,[1,2],1)"
      ]
     },
     "execution_count": 358,
     "metadata": {},
     "output_type": "execute_result"
    }
   ],
   "source": [
    "lufact([0 0;0 1])"
   ]
  },
  {
   "cell_type": "code",
   "execution_count": null,
   "metadata": {
    "collapsed": true
   },
   "outputs": [],
   "source": [
    "function GaussianElimination(A::IntervalMatrix, b::IntervalVector)\n",
    "    "
   ]
  },
  {
   "cell_type": "code",
   "execution_count": 22,
   "metadata": {
    "collapsed": false
   },
   "outputs": [
    {
     "data": {
      "text/plain": [
       "3x3 Array{Int64,2}:\n",
       "  2   1  -1\n",
       " -3  -1   2\n",
       " -2   1   2"
      ]
     },
     "execution_count": 22,
     "metadata": {},
     "output_type": "execute_result"
    }
   ],
   "source": [
    "A=[2 1 -1;-3 -1 2;-2 1 2]"
   ]
  },
  {
   "cell_type": "code",
   "execution_count": 392,
   "metadata": {
    "collapsed": false
   },
   "outputs": [
    {
     "data": {
      "text/plain": [
       "1x3 Array{Int64,2}:\n",
       " 8  -11  -3"
      ]
     },
     "execution_count": 392,
     "metadata": {},
     "output_type": "execute_result"
    }
   ],
   "source": [
    "b=[8 -11 -3]"
   ]
  },
  {
   "cell_type": "code",
   "execution_count": 397,
   "metadata": {
    "collapsed": false
   },
   "outputs": [
    {
     "data": {
      "text/plain": [
       "3-element Array{Float64,1}:\n",
       "  2.0\n",
       "  3.0\n",
       " -1.0"
      ]
     },
     "execution_count": 397,
     "metadata": {},
     "output_type": "execute_result"
    }
   ],
   "source": [
    "A=[2 1 -1;-3 -1 2;-2 1 2]\n",
    "b=[8;-11;-3]\n",
    "\n",
    "x = A\\b"
   ]
  },
  {
   "cell_type": "code",
   "execution_count": 405,
   "metadata": {
    "collapsed": false
   },
   "outputs": [
    {
     "ename": "LoadError",
     "evalue": "`one` has no method matching one(::Type{Interval})\nwhile loading In[405], in expression starting on line 4",
     "output_type": "error",
     "traceback": [
      "`one` has no method matching one(::Type{Interval})\nwhile loading In[405], in expression starting on line 4",
      "",
      " in lufact at linalg/lu.jl:65",
      " in \\ at linalg/dense.jl:415"
     ]
    }
   ],
   "source": [
    "A=[R1+R2 -R2;-R2 R2+R3]\n",
    "b=[V1;-V2]\n",
    "\n",
    "x = A\\b"
   ]
  },
  {
   "cell_type": "markdown",
   "metadata": {
    "collapsed": true
   },
   "source": [
    "###Otro método directo"
   ]
  },
  {
   "cell_type": "markdown",
   "metadata": {},
   "source": [
    "###Cramer Rule"
   ]
  },
  {
   "cell_type": "code",
   "execution_count": 20,
   "metadata": {
    "collapsed": false
   },
   "outputs": [
    {
     "data": {
      "text/plain": [
       "Det2x2 (generic function with 1 method)"
      ]
     },
     "execution_count": 20,
     "metadata": {},
     "output_type": "execute_result"
    }
   ],
   "source": [
    "function Det2x2(A::IntervalMatrix)\n",
    "    if size(A)[1]==size(A)[2]\n",
    "        if size(A)[1]==2\n",
    "            return A[1,1]*A[2,2]-A[1,2]*A[2,1]\n",
    "            else\n",
    "            return error(\"La matriz no es de 2x2\")\n",
    "        end\n",
    "    else\n",
    "        return error(\"La matriz no es cuadrada\")\n",
    "    end\n",
    "end"
   ]
  },
  {
   "cell_type": "code",
   "execution_count": 77,
   "metadata": {
    "collapsed": false
   },
   "outputs": [
    {
     "data": {
      "text/plain": [
       "Interval(-11,-7)"
      ]
     },
     "execution_count": 77,
     "metadata": {},
     "output_type": "execute_result"
    }
   ],
   "source": [
    "A=[Interval(-2,3) Interval(1,5);Interval(1,3) Interval(0, -2)]\n",
    "Det2x2(A)"
   ]
  },
  {
   "cell_type": "code",
   "execution_count": 97,
   "metadata": {
    "collapsed": false
   },
   "outputs": [
    {
     "data": {
      "text/plain": [
       "Det3x3 (generic function with 1 method)"
      ]
     },
     "execution_count": 97,
     "metadata": {},
     "output_type": "execute_result"
    }
   ],
   "source": [
    "function Det3x3(A::IntervalMatrix)\n",
    "    if size(A)[1]==size(A)[2]\n",
    "        if size(A)[1]==3\n",
    "            X1=[A[2,2] A[2,3]; A[3,2] A[3,3]]\n",
    "            X2=[A[2,1] A[2,3]; A[3,1] A[3,3]]\n",
    "            X3=[A[2,1] A[2,2]; A[3,1] A[3,2]]\n",
    "            return A[1,1]*Det2x2(X1) -A[2,2]*Det2x2(X2) + A[3,3]*Det2x2(X3)\n",
    "            else\n",
    "            return error(\"La matriz no es de 2x2\")\n",
    "        end\n",
    "    else\n",
    "        return error(\"La matriz no es cuadrada\")\n",
    "    end\n",
    "end"
   ]
  },
  {
   "cell_type": "code",
   "execution_count": 100,
   "metadata": {
    "collapsed": false
   },
   "outputs": [
    {
     "data": {
      "text/plain": [
       "3x3 Array{Interval,2}:\n",
       " Interval(1.9,2.1)    Interval(0.9,1.1)    Interval(-1.1,-0.9)\n",
       " Interval(-3.1,-2.9)  Interval(-1.1,-0.9)  Interval(1.9,2.1)  \n",
       " Interval(-2.1,-1.9)  Interval(0.9,1.1)    Interval(1.9,2.1)  "
      ]
     },
     "execution_count": 100,
     "metadata": {},
     "output_type": "execute_result"
    }
   ],
   "source": [
    "A=[Interval(1.9,2.1) Interval(0.9,1.1) Interval(-1.1,-0.9); Interval(-3.1,-2.9) Interval(-1.1,-0.9) Interval(1.9,2.1); Interval(-2.1,-1.9) Interval(0.9,1.1) Interval(1.9,2.1)]"
   ]
  },
  {
   "cell_type": "code",
   "execution_count": 101,
   "metadata": {
    "collapsed": false
   },
   "outputs": [
    {
     "data": {
      "text/plain": [
       "Interval(-20.904000000000007,-19.295999999999996)"
      ]
     },
     "execution_count": 101,
     "metadata": {},
     "output_type": "execute_result"
    }
   ],
   "source": [
    "Det3x3(A)"
   ]
  },
  {
   "cell_type": "markdown",
   "metadata": {},
   "source": [
    "###Vease ley pseudodistributiva Véase pags 32,33-Moore"
   ]
  },
  {
   "cell_type": "markdown",
   "metadata": {},
   "source": [
    "###¿Qué pasa si no uso la definición de los menores para Matrices de $3\\times3$?"
   ]
  },
  {
   "cell_type": "code",
   "execution_count": 104,
   "metadata": {
    "collapsed": false
   },
   "outputs": [
    {
     "data": {
      "text/plain": [
       "Det3x3Prueba (generic function with 1 method)"
      ]
     },
     "execution_count": 104,
     "metadata": {},
     "output_type": "execute_result"
    }
   ],
   "source": [
    "function Det3x3Prueba(A::IntervalMatrix)\n",
    "    if size(A)[1]==size(A)[2]\n",
    "        if size(A)[1]==3\n",
    "            X1=[A[2,2] A[2,3]; A[3,2] A[3,3]]\n",
    "            X2=[A[2,1] A[2,3]; A[3,1] A[3,3]]\n",
    "            X3=[A[2,1] A[2,2]; A[3,1] A[3,2]]\n",
    "            return A[1,1]*A[2,2]*A[3,3]-A[1,1]*A[2,3]*A[3,2]-A[2,2]*A[2,1]*A[3,3]-A[2,2]*A[2,3]*A[3,1]+A[3,3]*A[2,1]*A[3,2]-A[3,3]*A[2,2]*A[3,1]\n",
    "            else\n",
    "            return error(\"La matriz no es de 2x2\")\n",
    "        end\n",
    "    else\n",
    "        return error(\"La matriz no es cuadrada\")\n",
    "    end\n",
    "end"
   ]
  },
  {
   "cell_type": "code",
   "execution_count": 105,
   "metadata": {
    "collapsed": false
   },
   "outputs": [
    {
     "data": {
      "text/plain": [
       "Interval(-28.920000000000005,-27.719999999999995)"
      ]
     },
     "execution_count": 105,
     "metadata": {},
     "output_type": "execute_result"
    }
   ],
   "source": [
    "Det3x3Prueba(A)"
   ]
  },
  {
   "cell_type": "markdown",
   "metadata": {},
   "source": [
    "###Están dando resultados sumamente diferentes, y  uno debería contener al el otro, algo debe estar mal"
   ]
  },
  {
   "cell_type": "code",
   "execution_count": 21,
   "metadata": {
    "collapsed": false
   },
   "outputs": [
    {
     "data": {
      "text/plain": [
       "CramerRule (generic function with 1 method)"
      ]
     },
     "execution_count": 21,
     "metadata": {},
     "output_type": "execute_result"
    }
   ],
   "source": [
    "function CramerRule(A::IntervalMatrix, b::IntervalVector) #Falta implementa cuando el determinante de A es cero, indefinición\n",
    "    if size(A)[1]==size(A)[2]\n",
    "        if size(A)[1]==2\n",
    "            Det=Det2x2(A)\n",
    "            x=Det2x2([b[1] A[1,2]; b[2] A[2,2]])/Det\n",
    "            y=Det2x2([A[1,1] b[1]; A[2,1] b[2]])/Det\n",
    "            v=[x;y]\n",
    "            return v\n",
    "        else\n",
    "            if size(A)[1]==3\n",
    "                Det=Det3x3(A)\n",
    "                x=Det3x3([b[1] A[1,2] A[1,3];b[2] A[2,2] A[2,3];b[3] A[3,2] A[3,3]])/Det\n",
    "                y=Det3x3([A[1,1] b[1] A[1,3];A[2,1] b[2] A[2,3];A[3,1] b[3] A[3,3]])/Det\n",
    "                z=Det3x3([A[1,1] A[1,2] b[1];A[2,1] A[2,2] b[2];A[3,1] A[3,2] b[3]])/Det\n",
    "                v=[x;y;z]\n",
    "                return v\n",
    "            else\n",
    "                return error(\"Aún no se definen los determinantes para matrices más grandes que 3x3\")\n",
    "            end\n",
    "        end\n",
    "    else\n",
    "        return error(\"No es una matriz cuadrada\")\n",
    "    end\n",
    "end"
   ]
  },
  {
   "cell_type": "code",
   "execution_count": 78,
   "metadata": {
    "collapsed": false
   },
   "outputs": [
    {
     "data": {
      "text/plain": [
       "2-element Array{Interval,1}:\n",
       " Interval(0.0037190082644628095,0.006790123456790124)\n",
       " Interval(0.0,0.0)                                   "
      ]
     },
     "execution_count": 78,
     "metadata": {},
     "output_type": "execute_result"
    }
   ],
   "source": [
    "A=[R1+R2 -R2;-R2 R2+R3]\n",
    "b=[V1;-V2]\n",
    "CramerRule(A,b)"
   ]
  },
  {
   "cell_type": "code",
   "execution_count": 93,
   "metadata": {
    "collapsed": false
   },
   "outputs": [
    {
     "data": {
      "text/plain": [
       "3-element Array{Interval,1}:\n",
       " Interval(0.33773440489858386,0.4695273631840798) \n",
       " Interval(-1.643864013266999,-1.3547646383467271) \n",
       " Interval(-1.0810530679933672,-0.9213547646383463)"
      ]
     },
     "execution_count": 93,
     "metadata": {},
     "output_type": "execute_result"
    }
   ],
   "source": [
    "A=[Interval(1.9,2.1) Interval(0.9,1.1) Interval(-1.1,-0.9); Interval(-3.1,-2.9) Interval(-1.1,-0.9) Interval(1.9,2.1); Interval(-2.1,-1.9) Interval(0.9,1.1) Interval(1.9,2.1)]\n",
    "b=[Interval(3);Interval(1);-Interval(2)]\n",
    "CramerRule(A,b)"
   ]
  },
  {
   "cell_type": "code",
   "execution_count": 88,
   "metadata": {
    "collapsed": false
   },
   "outputs": [
    {
     "data": {
      "text/plain": [
       "3x3 Array{Interval,2}:\n",
       " Interval(1.9,2.1)    Interval(0.9,1.1)    Interval(-1.1,-0.9)\n",
       " Interval(-3.1,-2.9)  Interval(-1.1,-0.9)  Interval(1.9,2.1)  \n",
       " Interval(-2.1,-1.9)  Interval(0.9,1.1)    Interval(1.9,2.1)  "
      ]
     },
     "execution_count": 88,
     "metadata": {},
     "output_type": "execute_result"
    }
   ],
   "source": [
    "A"
   ]
  },
  {
   "cell_type": "code",
   "execution_count": 107,
   "metadata": {
    "collapsed": false
   },
   "outputs": [
    {
     "data": {
      "text/plain": [
       "Interval(-20.904000000000007,-19.295999999999996)"
      ]
     },
     "execution_count": 107,
     "metadata": {},
     "output_type": "execute_result"
    }
   ],
   "source": [
    "Det3x3(A)"
   ]
  },
  {
   "cell_type": "code",
   "execution_count": 79,
   "metadata": {
    "collapsed": false
   },
   "outputs": [
    {
     "data": {
      "text/plain": [
       "2-element Array{Interval,1}:\n",
       " Interval(10,10)\n",
       " Interval(-5,-5)"
      ]
     },
     "execution_count": 79,
     "metadata": {},
     "output_type": "execute_result"
    }
   ],
   "source": [
    "b"
   ]
  },
  {
   "cell_type": "markdown",
   "metadata": {},
   "source": [
    "##Métodos aproximados"
   ]
  },
  {
   "cell_type": "markdown",
   "metadata": {},
   "source": [
    "Linear Krawczyk Method..."
   ]
  },
  {
   "cell_type": "code",
   "execution_count": 22,
   "metadata": {
    "collapsed": false
   },
   "outputs": [
    {
     "data": {
      "text/plain": [
       "AbsoluteValue (generic function with 1 method)"
      ]
     },
     "execution_count": 22,
     "metadata": {},
     "output_type": "execute_result"
    }
   ],
   "source": [
    "function AbsoluteValue(x::Interval) #Valor absoluto de un intervalo, poner en el modulo\n",
    "    return max(abs(x.left),abs(x.right))\n",
    "end"
   ]
  },
  {
   "cell_type": "code",
   "execution_count": 80,
   "metadata": {
    "collapsed": false
   },
   "outputs": [
    {
     "data": {
      "text/plain": [
       "Norm (generic function with 2 methods)"
      ]
     },
     "execution_count": 80,
     "metadata": {},
     "output_type": "execute_result"
    }
   ],
   "source": [
    "function Norm(A::IntervalMatrix)\n",
    "    v=Real[]\n",
    "    for i=1:size(A)[1]\n",
    "        x=0\n",
    "        for j=1:size(A)[2]\n",
    "            x=x+AbsoluteValue(A[i,j])\n",
    "        end\n",
    "        push!(v,x)\n",
    "    end\n",
    "    return findmax(v)[1]\n",
    "end"
   ]
  },
  {
   "cell_type": "code",
   "execution_count": 81,
   "metadata": {
    "collapsed": false
   },
   "outputs": [
    {
     "data": {
      "text/plain": [
       "Norm (generic function with 2 methods)"
      ]
     },
     "execution_count": 81,
     "metadata": {},
     "output_type": "execute_result"
    }
   ],
   "source": [
    "function Norm(V::IntervalVector)\n",
    "    v=Real[]\n",
    "    x=0\n",
    "    for i=1:size(V)[1]\n",
    "        x=AbsoluteValue(V[i])\n",
    "        push!(v,x)\n",
    "    end\n",
    "    return findmax(v)[1]\n",
    "end     "
   ]
  },
  {
   "cell_type": "code",
   "execution_count": 25,
   "metadata": {
    "collapsed": false
   },
   "outputs": [
    {
     "name": "stderr",
     "output_type": "stream",
     "text": [
      "Warning: Method definition one(Interval,) in module Intervalos at /home/juser/Untitled Folder/Intervalos.jl:322 overwritten in module Main at In[25]:1.\n"
     ]
    },
    {
     "data": {
      "text/plain": [
       "one (generic function with 21 methods)"
      ]
     },
     "execution_count": 25,
     "metadata": {},
     "output_type": "execute_result"
    }
   ],
   "source": [
    "Base.one(A::Interval)=Interval(1)"
   ]
  },
  {
   "cell_type": "code",
   "execution_count": 82,
   "metadata": {
    "collapsed": false
   },
   "outputs": [
    {
     "data": {
      "text/plain": [
       "Identidad (generic function with 1 method)"
      ]
     },
     "execution_count": 82,
     "metadata": {},
     "output_type": "execute_result"
    }
   ],
   "source": [
    "function Identidad(A::IntervalMatrix) #Da una matriz identidad en intervalos de las dimesiones de A\n",
    "    Id=zeros(Any,size(A)[1],size(A)[2])\n",
    "       for i=1:size(A)[1]\n",
    "               for j=1:size(A)[2]\n",
    "                    if i==j\n",
    "                    Id[i,j]=one(A[i,j])\n",
    "                end\n",
    "            end\n",
    "        end\n",
    "    return Id\n",
    "end"
   ]
  },
  {
   "cell_type": "code",
   "execution_count": 83,
   "metadata": {
    "collapsed": false
   },
   "outputs": [],
   "source": [
    "A=[R1+R2 -R2;-R2 R2+R3]\n",
    "b=[V1;-V2];"
   ]
  },
  {
   "cell_type": "code",
   "execution_count": 84,
   "metadata": {
    "collapsed": false
   },
   "outputs": [
    {
     "data": {
      "text/plain": [
       "0.005000000000000001"
      ]
     },
     "execution_count": 84,
     "metadata": {},
     "output_type": "execute_result"
    }
   ],
   "source": [
    "Y=inv(midpoint(A))\n",
    "Norm((Identidad(A)*Y)*b)"
   ]
  },
  {
   "cell_type": "code",
   "execution_count": 85,
   "metadata": {
    "collapsed": false
   },
   "outputs": [
    {
     "data": {
      "text/plain": [
       "0.3000000000000004"
      ]
     },
     "execution_count": 85,
     "metadata": {},
     "output_type": "execute_result"
    }
   ],
   "source": [
    "Y=inv(midpoint(A))\n",
    "E=Identidad(A)-(Identidad(A)*Y)*A\n",
    "Norm(E)"
   ]
  },
  {
   "cell_type": "code",
   "execution_count": 23,
   "metadata": {
    "collapsed": false
   },
   "outputs": [
    {
     "data": {
      "text/plain": [
       "0.007142857142857148"
      ]
     },
     "execution_count": 23,
     "metadata": {},
     "output_type": "execute_result"
    }
   ],
   "source": [
    "c=Norm((Identidad(A)*Y)*b)/(1-Norm(E))"
   ]
  },
  {
   "cell_type": "code",
   "execution_count": 86,
   "metadata": {
    "collapsed": false
   },
   "outputs": [
    {
     "data": {
      "text/plain": [
       "/ (generic function with 81 methods)"
      ]
     },
     "execution_count": 86,
     "metadata": {},
     "output_type": "execute_result"
    }
   ],
   "source": [
    "function *(c::Number,x::IntervalVector)\n",
    "    v=Interval[]\n",
    "    for i=1:size(x)[1]\n",
    "        push!(v,c*x[i])\n",
    "    end\n",
    "    return v\n",
    "end\n",
    "\n",
    "*(x::Interval, c::Number)=*(c,x)\n",
    "*(x::IntervalVector, c::Number)=*(c,x)\n",
    "\n",
    "function /(x::IntervalVector,c::Number)\n",
    "    *(1/c,x)\n",
    "end"
   ]
  },
  {
   "cell_type": "code",
   "execution_count": 87,
   "metadata": {
    "collapsed": false
   },
   "outputs": [
    {
     "data": {
      "text/plain": [
       "* (generic function with 290 methods)"
      ]
     },
     "execution_count": 87,
     "metadata": {},
     "output_type": "execute_result"
    }
   ],
   "source": [
    "function *(c::Number,x::IntervalMatrix)\n",
    "    v=zeros(Any,size(x)[1],size(x)[2])\n",
    "     for i=1:size(A)[1]\n",
    "                for j=1:size(A)[2]\n",
    "                        v[i,j]=c*A[i,j]\n",
    "                end\n",
    "            end\n",
    "        return v\n",
    "end\n",
    "\n",
    "*(x::IntervalMatrix,c::Number)=*(c,x)"
   ]
  },
  {
   "cell_type": "code",
   "execution_count": 88,
   "metadata": {
    "collapsed": false
   },
   "outputs": [
    {
     "data": {
      "text/plain": [
       "Identidad (generic function with 1 method)"
      ]
     },
     "execution_count": 88,
     "metadata": {},
     "output_type": "execute_result"
    }
   ],
   "source": [
    "    function Identidad(A::IntervalMatrix) #Da una matriz identidad en intervalos de las dimesiones de A\n",
    "        Id=zeros(Any,size(A)[1],size(A)[2])\n",
    "        for i=1:size(A)[1]\n",
    "                for j=1:size(A)[2]\n",
    "                    if i==j\n",
    "                        Id[i,j]=one(A[i,j])\n",
    "                    end\n",
    "                end\n",
    "            end\n",
    "        return Id\n",
    "    end"
   ]
  },
  {
   "cell_type": "code",
   "execution_count": 89,
   "metadata": {
    "collapsed": false
   },
   "outputs": [
    {
     "data": {
      "text/plain": [
       "Intersection (generic function with 2 methods)"
      ]
     },
     "execution_count": 89,
     "metadata": {},
     "output_type": "execute_result"
    }
   ],
   "source": [
    "function Intersection(x::Interval, y::Interval) #CAMBIAR LA DEFINICIÓN\n",
    "    if x.left<y.right||y.left<x.right\n",
    "          return Interval(max(x.left,y.left), min(x.right, y.right))\n",
    "      else\n",
    "        return error(\"Los intervalos los tienen puntos en común\")\n",
    "      end\n",
    "end\n",
    "\n",
    "\n",
    "function Intersection(v::IntervalVector, u::IntervalVector)\n",
    "    w=Interval[]\n",
    "    if size(v)[1]==size(u)[1]\n",
    "        for i=1:size(v)[1]\n",
    "            push!(w,Intersection(u[i],v[i]))\n",
    "        end\n",
    "        return w\n",
    "    else\n",
    "        return error(\"Los vectores proporcionados no tienen la misma cantidad de elementos\")\n",
    "    end\n",
    "end"
   ]
  },
  {
   "cell_type": "code",
   "execution_count": 90,
   "metadata": {
    "collapsed": false
   },
   "outputs": [
    {
     "data": {
      "text/plain": [
       "2-element Array{Interval,1}:\n",
       " Interval(0,1) \n",
       " Interval(-2,2)"
      ]
     },
     "execution_count": 90,
     "metadata": {},
     "output_type": "execute_result"
    }
   ],
   "source": [
    "v=[Interval(-1,1);Interval(-3,2)]\n",
    "u=[Interval(0,1);Interval(-2,2)]\n",
    "Intersection(u,v)"
   ]
  },
  {
   "cell_type": "code",
   "execution_count": 31,
   "metadata": {
    "collapsed": false
   },
   "outputs": [
    {
     "data": {
      "text/plain": [
       "KrawczykMethod (generic function with 1 method)"
      ]
     },
     "execution_count": 31,
     "metadata": {},
     "output_type": "execute_result"
    }
   ],
   "source": [
    "function KrawczykMethod(A::IntervalMatrix, b::IntervalVector, n::Int64) #n numero de iteraciones\n",
    "    Y=inv(midpoint(A))\n",
    "    E=Identidad(A)-Y*A\n",
    "    c=Norm((Y*b)/(1-Norm(E)))\n",
    "    X=Interval[]\n",
    "    if size(A)[1]==size(b)[1]\n",
    "        for i=1:size(b)[1]\n",
    "            push!(X,c*Interval(-1,1))\n",
    "        end\n",
    "\n",
    "        for j=1:n\n",
    "            Z=(Y*b + E*X)\n",
    "            X=Intersection(Z,X)\n",
    "\n",
    "        end\n",
    "\n",
    "        return X\n",
    "    else\n",
    "        return error(\"Las dimensiones no son consistentes\")\n",
    "    end\n",
    "end"
   ]
  },
  {
   "cell_type": "code",
   "execution_count": 91,
   "metadata": {
    "collapsed": false
   },
   "outputs": [
    {
     "data": {
      "text/plain": [
       "2-element Array{Interval,1}:\n",
       " Interval(0.0038423434430911335,0.0061576565569088654) \n",
       " Interval(-0.0009852427638054253,0.0009852427638054253)"
      ]
     },
     "execution_count": 91,
     "metadata": {},
     "output_type": "execute_result"
    }
   ],
   "source": [
    "KrawczykMethod(A,b,10)"
   ]
  },
  {
   "cell_type": "code",
   "execution_count": 33,
   "metadata": {
    "collapsed": false
   },
   "outputs": [
    {
     "data": {
      "text/plain": [
       "KrawczykMethod (generic function with 2 methods)"
      ]
     },
     "execution_count": 33,
     "metadata": {},
     "output_type": "execute_result"
    }
   ],
   "source": [
    "function KrawczykMethod(A::IntervalMatrix, b::IntervalVector, e::Float64) #e=error\n",
    "    Y=inv(midpoint(A))\n",
    "    E=Identidad(A)-Y*A\n",
    "    c=Norm((Y*b)/(1-Norm(E)))\n",
    "    X=Interval[]\n",
    "    if size(A)[1]==size(b)[1]\n",
    "        for i=1:size(b)[1]\n",
    "            push!(X,c*Interval(-1,1))\n",
    "        end\n",
    "\n",
    "        while length(X[1])>=e&&length(X[2])>=e\n",
    "            Z=(Y*b + E*X)\n",
    "            X=Intersection(Z,X)\n",
    "        end\n",
    "        \n",
    "        return X\n",
    "        \n",
    "    else\n",
    "        return error(\"Las dimensiones no son consistentes\")\n",
    "    end\n",
    "end"
   ]
  },
  {
   "cell_type": "code",
   "execution_count": 34,
   "metadata": {
    "collapsed": false
   },
   "outputs": [
    {
     "data": {
      "text/plain": [
       "2-element Array{Interval,1}:\n",
       " Interval(0.002857142857142852,0.007142857142857148)   \n",
       " Interval(-0.0021428571428571477,0.0021428571428571477)"
      ]
     },
     "execution_count": 34,
     "metadata": {},
     "output_type": "execute_result"
    }
   ],
   "source": [
    "KrawczykMethod(A,b,1e-2)"
   ]
  },
  {
   "cell_type": "code",
   "execution_count": 165,
   "metadata": {
    "collapsed": false
   },
   "outputs": [],
   "source": [
    "using PyPlot\n",
    "UpX=Float64[]\n",
    "DownX=Float64[]\n",
    "UpY=Float64[]\n",
    "DownY=Float64[]\n",
    "ExactoCramerUpX=Float64[]\n",
    "ExactoCramerDownX=Float64[]\n",
    "ExactoCramerUpY=Float64[]\n",
    "ExactoCramerDownY=Float64[]\n",
    "for n=1:30\n",
    "        push!(UpX,KrawczykMethod(A,b,n)[1].right)\n",
    "        push!(DownX,KrawczykMethod(A,b,n)[1].left)\n",
    "        push!(UpY,KrawczykMethod(A,b,n)[2].right)\n",
    "        push!(DownY,KrawczykMethod(A,b,n)[2].left)\n",
    "    push!(ExactoCramerUpX,CramerRule(A,b)[1].right)\n",
    "    push!(ExactoCramerDownX,CramerRule(A,b)[1].left)\n",
    "    push!(ExactoCramerUpY,CramerRule(A,b)[2].right)\n",
    "    push!(ExactoCramerDownY,CramerRule(A,b)[2].left)\n",
    "end\n",
    "n=[i for i in 1:1:30];"
   ]
  },
  {
   "cell_type": "code",
   "execution_count": 157,
   "metadata": {
    "collapsed": false
   },
   "outputs": [
    {
     "data": {
      "text/plain": [
       "2-element Array{Interval,1}:\n",
       " Interval(0.0037190082644628095,0.006790123456790124)\n",
       " Interval(0.0,0.0)                                   "
      ]
     },
     "execution_count": 157,
     "metadata": {},
     "output_type": "execute_result"
    }
   ],
   "source": [
    "CramerRule(A,b)"
   ]
  },
  {
   "cell_type": "code",
   "execution_count": 166,
   "metadata": {
    "collapsed": false
   },
   "outputs": [
    {
     "data": {
      "image/png": "[encoded data removed]",
      "text/plain": [
       "Figure(PyObject <matplotlib.figure.Figure object at 0x7f38d7ae5c10>)"
      ]
     },
     "metadata": {},
     "output_type": "display_data"
    },
    {
     "data": {
      "text/plain": [
       "4-element Array{Any,1}:\n",
       " PyObject <matplotlib.lines.Line2D object at 0x7f38d79f34d0>\n",
       " PyObject <matplotlib.lines.Line2D object at 0x7f38d79f3750>\n",
       " PyObject <matplotlib.lines.Line2D object at 0x7f38d79f3e10>\n",
       " PyObject <matplotlib.lines.Line2D object at 0x7f38d7a00490>"
      ]
     },
     "execution_count": 166,
     "metadata": {},
     "output_type": "execute_result"
    }
   ],
   "source": [
    "plot(n,UpX,n,ExactoCramerUpX,n,ExactoCramerDownX,n,DownX)"
   ]
  },
  {
   "cell_type": "code",
   "execution_count": 167,
   "metadata": {
    "collapsed": false
   },
   "outputs": [
    {
     "data": {
      "image/png": "[encoded data removed]",
      "text/plain": [
       "Figure(PyObject <matplotlib.figure.Figure object at 0x7f38d7aa1510>)"
      ]
     },
     "metadata": {},
     "output_type": "display_data"
    },
    {
     "data": {
      "text/plain": [
       "4-element Array{Any,1}:\n",
       " PyObject <matplotlib.lines.Line2D object at 0x7f38d792da50>\n",
       " PyObject <matplotlib.lines.Line2D object at 0x7f38d792dcd0>\n",
       " PyObject <matplotlib.lines.Line2D object at 0x7f38d79393d0>\n",
       " PyObject <matplotlib.lines.Line2D object at 0x7f38d7939a10>"
      ]
     },
     "execution_count": 167,
     "metadata": {},
     "output_type": "execute_result"
    }
   ],
   "source": [
    "plot(n,UpY,n,ExactoCramerUpY,n,ExactoCramerDownY,n,DownY)"
   ]
  },
  {
   "cell_type": "code",
   "execution_count": 35,
   "metadata": {
    "collapsed": false
   },
   "outputs": [
    {
     "data": {
      "text/plain": [
       "midpoint (generic function with 3 methods)"
      ]
     },
     "execution_count": 35,
     "metadata": {},
     "output_type": "execute_result"
    }
   ],
   "source": [
    "function midpoint(V::IntervalVector)\n",
    "    x=zeros(Real,size(V)[1])\n",
    "    for i=1:size(V)[1]\n",
    "        x[i]=midpoint(V[i])\n",
    "    end\n",
    "    return x\n",
    "end"
   ]
  },
  {
   "cell_type": "markdown",
   "metadata": {},
   "source": [
    "###TODO TRABAJANDO, PROGRAMEMOS GAUSS-SEIDEL"
   ]
  },
  {
   "cell_type": "code",
   "execution_count": 2,
   "metadata": {
    "collapsed": false
   },
   "outputs": [
    {
     "name": "stderr",
     "output_type": "stream",
     "text": [
      "Warning: New definition \n",
      "    promote_type(Type{T<:Number},Type{Interval}) at /home/juser/Untitled Folder/Intervalos.jl:327\n",
      "is ambiguous with: \n",
      "    promote_type(Type{None},Type{T}) at promotion.jl:103.\n",
      "To fix, define \n",
      "    promote_type(Type{None},Type{Interval})\n",
      "before the new definition.\n",
      "Warning: New definition \n",
      "    promote_type(Type{T<:Number},Type{Interval}) at /home/juser/Untitled Folder/Intervalos.jl:327\n",
      "is ambiguous with: \n",
      "    promote_type(Type{T},Type{T}) at promotion.jl:101.\n",
      "To fix, define \n",
      "    promote_type(Type{_<:Number},Type{_<:Number})\n",
      "before the new definition.\n",
      "Warning: Method definition one(Interval,) in module Intervalos at /home/juser/Untitled Folder/Intervalos.jl:325 overwritten in module IntervalMatrices at /home/juser/Untitled Folder/IntervalMatrices.jl:78.\n"
     ]
    }
   ],
   "source": [
    "using Intervalos\n",
    "using IntervalMatrices"
   ]
  },
  {
   "cell_type": "code",
   "execution_count": 33,
   "metadata": {
    "collapsed": false
   },
   "outputs": [
    {
     "ename": "LoadError",
     "evalue": "`/` has no method matching /(::Int64, ::Interval)\nwhile loading In[33], in expression starting on line 1",
     "output_type": "error",
     "traceback": [
      "`/` has no method matching /(::Int64, ::Interval)\nwhile loading In[33], in expression starting on line 1",
      ""
     ]
    }
   ],
   "source": [
    "1/Interval(1)"
   ]
  },
  {
   "cell_type": "code",
   "execution_count": 4,
   "metadata": {
    "collapsed": false
   },
   "outputs": [],
   "source": [
    "R1=Interval(900,1100)\n",
    "R2=Interval(900,1100)\n",
    "R3=Interval(900,1100)\n",
    "\n",
    "V1=Interval(10)\n",
    "V2=Interval(5)\n",
    "A=[R1+R2 -R2;-R2 R2+R3]\n",
    "b=[V1;-V2];"
   ]
  },
  {
   "cell_type": "code",
   "execution_count": 9,
   "metadata": {
    "collapsed": false
   },
   "outputs": [
    {
     "data": {
      "text/plain": [
       "2x2 Array{Interval,2}:\n",
       " Interval(1800,2200)   Interval(-1100,-900)\n",
       " Interval(-1100,-900)  Interval(1800,2200) "
      ]
     },
     "execution_count": 9,
     "metadata": {},
     "output_type": "execute_result"
    }
   ],
   "source": [
    "A"
   ]
  },
  {
   "cell_type": "code",
   "execution_count": 10,
   "metadata": {
    "collapsed": false
   },
   "outputs": [
    {
     "data": {
      "text/plain": [
       "2-element Array{Interval,1}:\n",
       " Interval(10,10)\n",
       " Interval(-5,-5)"
      ]
     },
     "execution_count": 10,
     "metadata": {},
     "output_type": "execute_result"
    }
   ],
   "source": [
    "b"
   ]
  },
  {
   "cell_type": "code",
   "execution_count": 11,
   "metadata": {
    "collapsed": false
   },
   "outputs": [
    {
     "data": {
      "text/plain": [
       "2x2 Array{Float64,2}:\n",
       " 0.000666667  0.000333333\n",
       " 0.000333333  0.000666667"
      ]
     },
     "execution_count": 11,
     "metadata": {},
     "output_type": "execute_result"
    }
   ],
   "source": [
    "Y=inv(Midpoint(A))"
   ]
  },
  {
   "cell_type": "code",
   "execution_count": 13,
   "metadata": {
    "collapsed": false
   },
   "outputs": [
    {
     "data": {
      "text/plain": [
       "2-element Array{Any,1}:\n",
       " Interval(0.04499999999999999,0.045000000000000005)\n",
       " Interval(0.04499999999999999,0.045000000000000005)"
      ]
     },
     "execution_count": 13,
     "metadata": {},
     "output_type": "execute_result"
    }
   ],
   "source": [
    "Y=10e-4*[6 3;6 3]\n",
    "Y*b"
   ]
  },
  {
   "cell_type": "code",
   "execution_count": 7,
   "metadata": {
    "collapsed": false
   },
   "outputs": [
    {
     "data": {
      "text/plain": [
       "2x2 Array{Interval,2}:\n",
       " Interval(0.8333333333333333,1.166666666666667)      …  Interval(-0.13333333333333341,0.13333333333333341)\n",
       " Interval(-0.13333333333333341,0.13333333333333341)     Interval(0.8333333333333333,1.166666666666667)    "
      ]
     },
     "execution_count": 7,
     "metadata": {},
     "output_type": "execute_result"
    }
   ],
   "source": [
    "Y=inv(Midpoint(A))\n",
    "G=Y*A"
   ]
  },
  {
   "cell_type": "code",
   "execution_count": 8,
   "metadata": {
    "collapsed": false
   },
   "outputs": [
    {
     "data": {
      "text/plain": [
       "2-element Array{Interval,1}:\n",
       " Interval(0.004999999999999999,0.005000000000000001)   \n",
       " Interval(-4.336808689942018e-19,4.336808689942018e-19)"
      ]
     },
     "execution_count": 8,
     "metadata": {},
     "output_type": "execute_result"
    }
   ],
   "source": [
    "B=Y*b"
   ]
  },
  {
   "cell_type": "code",
   "execution_count": null,
   "metadata": {
    "collapsed": true
   },
   "outputs": [],
   "source": [
    "n=[i for i in 1:1:30]"
   ]
  },
  {
   "cell_type": "code",
   "execution_count": 29,
   "metadata": {
    "collapsed": false
   },
   "outputs": [
    {
     "data": {
      "text/plain": [
       "GaussSeidelStep (generic function with 1 method)"
      ]
     },
     "execution_count": 29,
     "metadata": {},
     "output_type": "execute_result"
    }
   ],
   "source": [
    "function GaussSeidelStep(A::IntervalMatrix,b::IntervalVector,x::IntervalVector,n::Int64) # x vector inicial\n",
    "    Y=inv(Midpoint(A))\n",
    "    G=Y*A\n",
    "    C=Y*b\n",
    "    numerador=C\n",
    "    X_=Interval[]\n",
    "    W=Interval[]\n",
    "    Z=Interval[]\n",
    "    n=1:size(A)[1]   #Numero de ecuaciones\n",
    "    \n",
    "    X=x #Inicialización\n",
    "    \n",
    "    for i=1:n   \n",
    "        if i>1\n",
    "            numerador=numerador-G[i,i-1]*X[i-1]\n",
    "        end\n",
    "\n",
    "        if i<n\n",
    "            numerador=numerador-G[i,i+1]*X[i+1]\n",
    "        end\n",
    "\n",
    "\n",
    "        push!(X_,(1/G[i,i])*(C[i]-Z[i]-W[i]))\n",
    "\n",
    "        push!(X,Intersection(X_,X))\n",
    "        \n",
    "    end\n",
    "    \n",
    "    return X\n",
    "end"
   ]
  },
  {
   "cell_type": "code",
   "execution_count": 58,
   "metadata": {
    "collapsed": false
   },
   "outputs": [
    {
     "data": {
      "text/plain": [
       "2-element Array{Interval,1}:\n",
       " Interval(0.004999999999999999,0.005000000000000001)   \n",
       " Interval(-4.336808689942018e-19,4.336808689942018e-19)"
      ]
     },
     "execution_count": 58,
     "metadata": {},
     "output_type": "execute_result"
    }
   ],
   "source": [
    "    Y=inv(Midpoint(A))\n",
    "    G=Y*A\n",
    "    C=Y*b\n",
    "    numerador=C\n",
    "    X_=Interval[]\n",
    "    W=Interval[]\n",
    "    Z=Interval[]\n",
    "    n=size(A)[1]   #Numero de ecuaciones\n",
    "    \n",
    "X=[Interval(0);Interval(0)] #Inicialización\n",
    "    \n",
    "for i=1:n \n",
    "    if i>1\n",
    "       numerador=numerador-G[i,i-1]*X[i-1]\n",
    "        push!(numerador)\n",
    "    end\n",
    "    \n",
    "    if i<n\n",
    "        numerador=numerador-G[i,i+1]*X[i+1]\n",
    "    end\n",
    "end"
   ]
  },
  {
   "cell_type": "code",
   "execution_count": 49,
   "metadata": {
    "collapsed": false
   },
   "outputs": [
    {
     "data": {
      "text/plain": [
       "- (generic function with 254 methods)"
      ]
     },
     "execution_count": 49,
     "metadata": {},
     "output_type": "execute_result"
    }
   ],
   "source": [
    "function +(V::IntervalVector,c::Real)\n",
    "    U=Interval[]\n",
    "    for i=1:size(V)[1]\n",
    "        push!(U,V[i]+c)\n",
    "    end\n",
    "    return U\n",
    "end\n",
    "\n",
    "+(c::Real,V::IntervalVector)=+(V,c)\n",
    "\n",
    "function -(V::IntervalVector,x::Real)\n",
    "    U=Interval[]\n",
    "    for i=1:size(V)[1]\n",
    "        push!(U,V[i]-x)\n",
    "    end\n",
    "    return U\n",
    "end\n",
    "\n",
    "-(x::Real,V::IntervalVector)=-(V,x)*(-1)\n",
    "\n",
    "\n",
    "function +(V::IntervalVector,x::Interval)\n",
    "    U=Interval[]\n",
    "    for i=1:size(V)[1]\n",
    "        push!(U,V[i]+x)\n",
    "    end\n",
    "    return U\n",
    "end\n",
    "\n",
    "+(x::Interval, V::IntervalVector)=+(V,x)\n",
    "\n",
    "function *(V::IntervalVector,x::Interval)\n",
    "    U=Interval[]\n",
    "    for i=1:size(V)[1]\n",
    "        push!(U,V[i]*x)\n",
    "    end\n",
    "    return U\n",
    "end\n",
    "\n",
    "+(x::Interval, V::IntervalVector)=*(V,x)\n",
    "\n",
    "function -(V::IntervalVector,x::Interval)\n",
    "    U=Interval[]\n",
    "    for i=1:size(V)[1]\n",
    "        push!(U,V[i]-x)\n",
    "    end\n",
    "    return U\n",
    "end\n",
    "\n",
    "-(x::Interval,V::IntervalVector)=-(V,x)*(-1)\n",
    "\n",
    "function +(A::IntervalMatrix,c::Real)\n",
    "    v=zeros(Any,size(A)[1],size(A)[2])\n",
    "    for i=1:size(A)[1]\n",
    "            for j=1:size(A)[2]\n",
    "                    v[i,j]=A[i,j]+c\n",
    "            end\n",
    "        end\n",
    "    return v\n",
    "end\n",
    "\n",
    "+(c::Number, A::IntervalMatrix)=+(A,c)\n",
    "\n",
    "function -(A::IntervalMatrix,c::Real)\n",
    "    v=zeros(Any,size(A)[1],size(A)[2])\n",
    "    for i=1:size(A)[1]\n",
    "            for j=1:size(A)[2]\n",
    "                    v[i,j]=A[i,j]-c\n",
    "            end\n",
    "        end\n",
    "    return v\n",
    "end\n",
    "\n",
    "-(c::Number, A::IntervalMatrix)=(-(A,c))*(-1)\n",
    "\n",
    "function +(A::IntervalMatrix,x::Interval)\n",
    "    v=zeros(Any,size(A)[1],size(A)[2])\n",
    "    for i=1:size(A)[1]\n",
    "            for j=1:size(A)[2]\n",
    "                    v[i,j]=A[i,j]+x\n",
    "            end\n",
    "        end\n",
    "    return v\n",
    "end\n",
    "\n",
    "+(c::Interval, A::IntervalMatrix)=+(A,c)\n",
    "\n",
    "function -(A::IntervalMatrix,x::Interval)\n",
    "    v=zeros(Any,size(A)[1],size(A)[2])\n",
    "    for i=1:size(A)[1]\n",
    "            for j=1:size(A)[2]\n",
    "                    v[i,j]=A[i,j]-x\n",
    "            end\n",
    "        end\n",
    "    return v\n",
    "end\n",
    "\n",
    "-(x::Interval, A::IntervalMatrix)=(-(A,x))*(-1)\n",
    "\n",
    "\n",
    "function *(A::IntervalMatrix,x::Interval)\n",
    "    v=zeros(Any,size(A)[1],size(A)[2])\n",
    "    for i=1:size(A)[1]\n",
    "            for j=1:size(A)[2]\n",
    "                    v[i,j]=A[i,j]*x\n",
    "            end\n",
    "        end\n",
    "    return v\n",
    "end\n",
    "\n",
    "*(c::Interval, A::IntervalMatrix)=*(A,c)"
   ]
  },
  {
   "cell_type": "code",
   "execution_count": 34,
   "metadata": {
    "collapsed": false
   },
   "outputs": [
    {
     "data": {
      "text/plain": [
       "/ (generic function with 84 methods)"
      ]
     },
     "execution_count": 34,
     "metadata": {},
     "output_type": "execute_result"
    }
   ],
   "source": [
    "  function /(n::Real, y::Interval)\n",
    "   m=Interval(0.0, 0.0)\n",
    "    with_rounding(RoundDown) do\n",
    "      m.left=n\n",
    "    end\n",
    "    with_rounding(RoundDown) do\n",
    "      m.right=n\n",
    "    end\n",
    "  return m/y\n",
    "  end"
   ]
  },
  {
   "cell_type": "markdown",
   "metadata": {},
   "source": [
    "###TODAS LAS OPERACIONES ACTUALIZADAS, siguiente paso, GaussSeidel"
   ]
  },
  {
   "cell_type": "code",
   "execution_count": 2,
   "metadata": {
    "collapsed": false
   },
   "outputs": [
    {
     "name": "stderr",
     "output_type": "stream",
     "text": [
      "Warning: New definition \n",
      "    promote_type(Type{T<:Number},Type{Interval}) at /home/juser/Untitled Folder/Intervalos.jl:327\n",
      "is ambiguous with: \n",
      "    promote_type(Type{None},Type{T}) at promotion.jl:103.\n",
      "To fix, define \n",
      "    promote_type(Type{None},Type{Interval})\n",
      "before the new definition.\n",
      "Warning: New definition \n",
      "    promote_type(Type{T<:Number},Type{Interval}) at /home/juser/Untitled Folder/Intervalos.jl:327\n",
      "is ambiguous with: \n",
      "    promote_type(Type{T},Type{T}) at promotion.jl:101.\n",
      "To fix, define \n",
      "    promote_type(Type{_<:Number},Type{_<:Number})\n",
      "before the new definition.\n",
      "Warning: Method definition one(Interval,) in module Intervalos at /home/juser/Untitled Folder/Intervalos.jl:325 overwritten in module IntervalMatrices at /home/juser/Untitled Folder/IntervalMatrices.jl:79.\n",
      "Warning: New definition \n",
      "    +(Array{Interval,1},Real) at /home/juser/Untitled Folder/IntervalMatrices.jl:97\n",
      "is ambiguous with: \n",
      "    +(AbstractArray{Bool,N},Bool) at array.jl:770.\n",
      "To fix, define \n",
      "    +(Array{Bool,1},Bool)\n",
      "before the new definition.\n",
      "Warning: New definition \n",
      "    +(Real,Array{Interval,1}) at /home/juser/Untitled Folder/IntervalMatrices.jl:104\n",
      "is ambiguous with: \n",
      "    +(Bool,AbstractArray{Bool,N}) at array.jl:771.\n",
      "To fix, define \n",
      "    +(Bool,Array{Bool,1})\n",
      "before the new definition.\n",
      "Warning: New definition \n",
      "    -(Real,Array{Interval,1}) at /home/juser/Untitled Folder/IntervalMatrices.jl:114\n",
      "is ambiguous with: \n",
      "    -(Bool,AbstractArray{Bool,N}) at array.jl:773.\n",
      "To fix, define \n",
      "    -(Bool,Array{Bool,1})\n",
      "before the new definition.\n",
      "Warning: New definition \n",
      "    +(Array{Interval,2},Real) at /home/juser/Untitled Folder/IntervalMatrices.jl:148\n",
      "is ambiguous with: \n",
      "    +(AbstractArray{Bool,N},Bool) at array.jl:770.\n",
      "To fix, define \n",
      "    +(Array{Bool,2},Bool)\n",
      "before the new definition.\n",
      "Warning: New definition \n",
      "    +(Number,Array{Interval,2}) at /home/juser/Untitled Folder/IntervalMatrices.jl:157\n",
      "is ambiguous with: \n",
      "    +(Bool,AbstractArray{Bool,N}) at array.jl:771.\n",
      "To fix, define \n",
      "    +(Bool,Array{Bool,2})\n",
      "before the new definition.\n",
      "Warning: New definition \n",
      "    -(Number,Array{Interval,2}) at /home/juser/Untitled Folder/IntervalMatrices.jl:169\n",
      "is ambiguous with: \n",
      "    -(Bool,AbstractArray{Bool,N}) at array.jl:773.\n",
      "To fix, define \n",
      "    -(Bool,Array{Bool,2})\n",
      "before the new definition.\n"
     ]
    }
   ],
   "source": [
    "workspace()\n",
    "using Intervalos\n",
    "using IntervalMatrices\n",
    "\n",
    "\n",
    "function Midpoint(x::Interval)\n",
    "    return (x.left+x.right)/2\n",
    "end\n",
    "\n",
    "function Midpoint(M::IntervalMatrix)\n",
    "    x=zeros(Real,size(M)[1],size(M)[2])\n",
    "    for i=1:size(M)[1]\n",
    "        for j=1:size(M)[2]\n",
    "            x[i,j]=Midpoint(M[i,j])\n",
    "        end\n",
    "    end\n",
    "    return x\n",
    "end\n",
    "\n",
    "function Midpoint(V::IntervalVector)\n",
    "    x=zeros(Real,size(V)[1])\n",
    "    for i=1:size(V)[1]\n",
    "        x[i]=Midpoint(V[i])\n",
    "    end\n",
    "    return x\n",
    "end;"
   ]
  },
  {
   "cell_type": "code",
   "execution_count": 3,
   "metadata": {
    "collapsed": true
   },
   "outputs": [],
   "source": [
    "R1=Interval(900,1100)\n",
    "R2=Interval(900,1100)\n",
    "R3=Interval(900,1100)\n",
    "\n",
    "V1=Interval(10)\n",
    "V2=Interval(5)\n",
    "A=[R1+R2 -R2;-R2 R2+R3]\n",
    "b=[V1;-V2];"
   ]
  },
  {
   "cell_type": "markdown",
   "metadata": {},
   "source": [
    "####FALTA AGREGAR `/` has no method matching /(::Array{Interval,1}, ::Interval)"
   ]
  },
  {
   "cell_type": "code",
   "execution_count": 4,
   "metadata": {
    "collapsed": false
   },
   "outputs": [
    {
     "data": {
      "text/plain": [
       "/ (generic function with 84 methods)"
      ]
     },
     "execution_count": 4,
     "metadata": {},
     "output_type": "execute_result"
    }
   ],
   "source": [
    "function /(V::IntervalVector,x::Interval)\n",
    "    U=Interval[]\n",
    "    for i=1:size(V)[1]\n",
    "        push!(U,ExtendedDivision(V[i],x))\n",
    "    end\n",
    "    return U\n",
    "end"
   ]
  },
  {
   "cell_type": "code",
   "execution_count": 5,
   "metadata": {
    "collapsed": false
   },
   "outputs": [
    {
     "data": {
      "text/plain": [
       "GaussSeidelStep (generic function with 1 method)"
      ]
     },
     "execution_count": 5,
     "metadata": {},
     "output_type": "execute_result"
    }
   ],
   "source": [
    "function GaussSeidelStep(A::IntervalMatrix,b::IntervalVector,x::IntervalVector)\n",
    "    Y=inv(Midpoint(A))                                      \n",
    "    G=Y*A                                                   # x=Vector inicial\n",
    "    C=Y*b                                                   # Antes de la Intersección\n",
    "    numerador=C\n",
    "    n=size(A)[1]   #Numero de ecuaciones\n",
    "    \n",
    "    X=x #Inicialización\n",
    "    for i=1:n  \n",
    "        if contains(G[i,i],0)==false   \n",
    "            if i>1\n",
    "                for j=1:i-1\n",
    "                numerador=numerador-G[i,j]*X[j]\n",
    "                end\n",
    "            end\n",
    "\n",
    "            if i<n\n",
    "                for j=i+1:n\n",
    "                numerador=numerador-G[i,j]*X[j]\n",
    "                end\n",
    "            end\n",
    "\n",
    "\n",
    "        else\n",
    "            return error(\"Un elemento diágonal contiene al cero\")\n",
    "        end\n",
    "        return numerador/G[i,i]\n",
    "    end\n",
    "\n",
    "    \n",
    "    #return numerador/G[i,i]\n",
    "end"
   ]
  },
  {
   "cell_type": "code",
   "execution_count": 6,
   "metadata": {
    "collapsed": false
   },
   "outputs": [
    {
     "data": {
      "text/plain": [
       "2-element Array{Interval,1}:\n",
       " Interval(0.0042837968896,0.00600268435456)            \n",
       " Interval(-2.6843545599993956e-6,2.6843545599993956e-6)"
      ]
     },
     "execution_count": 6,
     "metadata": {},
     "output_type": "execute_result"
    }
   ],
   "source": [
    "x0=[Interval(-1,1);Interval(-1,1)]\n",
    "x1=Intersection(GaussSeidelStep(A,b,x0),x0)\n",
    "x2=Intersection(GaussSeidelStep(A,b,x1),x1)\n",
    "x3=Intersection(GaussSeidelStep(A,b,x2),x2)\n",
    "x4=Intersection(GaussSeidelStep(A,b,x3),x3)\n",
    "x5=Intersection(GaussSeidelStep(A,b,x4),x4)\n",
    "x6=Intersection(GaussSeidelStep(A,b,x5),x5)\n",
    "x7=Intersection(GaussSeidelStep(A,b,x6),x6)"
   ]
  },
  {
   "cell_type": "code",
   "execution_count": 7,
   "metadata": {
    "collapsed": false
   },
   "outputs": [
    {
     "data": {
      "text/plain": [
       "GaussSeidel (generic function with 1 method)"
      ]
     },
     "execution_count": 7,
     "metadata": {},
     "output_type": "execute_result"
    }
   ],
   "source": [
    "function GaussSeidel(A::IntervalMatrix,b::IntervalVector,x::IntervalVector,i::Int64) # i numero de iteraciones\n",
    "    for n=1:i\n",
    "        X_=GaussSeidelStep(A,b,x)\n",
    "        x=Intersection(X_,x)  \n",
    "    end\n",
    "    return x\n",
    "end"
   ]
  },
  {
   "cell_type": "code",
   "execution_count": 8,
   "metadata": {
    "collapsed": false
   },
   "outputs": [
    {
     "data": {
      "text/plain": [
       "2-element Array{Interval,1}:\n",
       " Interval(0.004285706432059801,0.006000010995116277)   \n",
       " Interval(-1.0995116277140544e-8,1.0995116277140544e-8)"
      ]
     },
     "execution_count": 8,
     "metadata": {},
     "output_type": "execute_result"
    }
   ],
   "source": [
    "x0=[Interval(-1,1);Interval(-1,1)]\n",
    "GaussSeidel(A,b,x0,10)"
   ]
  },
  {
   "cell_type": "markdown",
   "metadata": {},
   "source": [
    "###GAUSS-SEIDEL WORKING"
   ]
  },
  {
   "cell_type": "code",
   "execution_count": 9,
   "metadata": {
    "collapsed": false
   },
   "outputs": [
    {
     "name": "stderr",
     "output_type": "stream",
     "text": [
      "Warning: Method definition IPv4(String,) in module Compat at /home/juser/.julia/v0.3/Compat/src/Compat.jl:41 overwritten in module Compat at /home/juser/.julia/v0.3/Compat/src/Compat.jl:41.\n",
      "Warning: Method definition IPv6(String,) in module Compat at /home/juser/.julia/v0.3/Compat/src/Compat.jl:42 overwritten in module Compat at /home/juser/.julia/v0.3/Compat/src/Compat.jl:42.\n",
      "Warning: Method definition isless(T<:IpAddr,T<:IpAddr) in module Compat at /home/juser/.julia/v0.3/Compat/src/Compat.jl:47 overwritten in module Compat at /home/juser/.julia/v0.3/Compat/src/Compat.jl:47.\n",
      "Warning: Method definition Dict(Any,) in module Compat at /home/juser/.julia/v0.3/Compat/src/Compat.jl:59 overwritten in module Compat at /home/juser/.julia/v0.3/Compat/src/Compat.jl:59.\n",
      "Warning: Method definition round(Type{T<:Integer},Integer) in module Compat at /home/juser/.julia/v0.3/Compat/src/Compat.jl:75 overwritten in module Compat at /home/juser/.julia/v0.3/Compat/src/Compat.jl:75.\n",
      "Warning: Method definition round(Type{T<:Integer},Real) in module Compat at /home/juser/.julia/v0.3/Compat/src/Compat.jl:76 overwritten in module Compat at /home/juser/.julia/v0.3/Compat/src/Compat.jl:76.\n",
      "Warning: Method definition round(Type{T<:Integer},Rational{T<:Integer}) in module Compat at /home/juser/.julia/v0.3/Compat/src/Compat.jl:77 overwritten in module Compat at /home/juser/.julia/v0.3/Compat/src/Compat.jl:77.\n",
      "Warning: Method definition round(Type{T},AbstractArray{R,1}) in module Compat at /home/juser/.julia/v0.3/Compat/src/Compat.jl:79 overwritten in module Compat at /home/juser/.julia/v0.3/Compat/src/Compat.jl:79.\n",
      "Warning: Method definition round(Type{T},AbstractArray{R,2}) in module Compat at /home/juser/.julia/v0.3/Compat/src/Compat.jl:82 overwritten in module Compat at /home/juser/.julia/v0.3/Compat/src/Compat.jl:82.\n",
      "Warning: Method definition round(Type{T},AbstractArray{T,N}) in module Compat at /home/juser/.julia/v0.3/Compat/src/Compat.jl:85 overwritten in module Compat at /home/juser/.julia/v0.3/Compat/src/Compat.jl:85.\n",
      "Warning: Method definition ceil(Type{T<:Integer},Integer) in module Compat at /home/juser/.julia/v0.3/Compat/src/Compat.jl:75 overwritten in module Compat at /home/juser/.julia/v0.3/Compat/src/Compat.jl:75.\n",
      "Warning: Method definition ceil(Type{T<:Integer},Real) in module Compat at /home/juser/.julia/v0.3/Compat/src/Compat.jl:76 overwritten in module Compat at /home/juser/.julia/v0.3/Compat/src/Compat.jl:76.\n",
      "Warning: Method definition ceil(Type{T<:Integer},Rational{T<:Integer}) in module Compat at /home/juser/.julia/v0.3/Compat/src/Compat.jl:77 overwritten in module Compat at /home/juser/.julia/v0.3/Compat/src/Compat.jl:77.\n",
      "Warning: Method definition ceil(Type{T},AbstractArray{R,1}) in module Compat at /home/juser/.julia/v0.3/Compat/src/Compat.jl:79 overwritten in module Compat at /home/juser/.julia/v0.3/Compat/src/Compat.jl:79.\n",
      "Warning: Method definition ceil(Type{T},AbstractArray{R,2}) in module Compat at /home/juser/.julia/v0.3/Compat/src/Compat.jl:82 overwritten in module Compat at /home/juser/.julia/v0.3/Compat/src/Compat.jl:82.\n",
      "Warning: Method definition ceil(Type{T},AbstractArray{T,N}) in module Compat at /home/juser/.julia/v0.3/Compat/src/Compat.jl:85 overwritten in module Compat at /home/juser/.julia/v0.3/Compat/src/Compat.jl:85.\n",
      "Warning: Method definition floor(Type{T<:Integer},Integer) in module Compat at /home/juser/.julia/v0.3/Compat/src/Compat.jl:75 overwritten in module Compat at /home/juser/.julia/v0.3/Compat/src/Compat.jl:75.\n",
      "Warning: Method definition floor(Type{T<:Integer},Real) in module Compat at /home/juser/.julia/v0.3/Compat/src/Compat.jl:76 overwritten in module Compat at /home/juser/.julia/v0.3/Compat/src/Compat.jl:76.\n",
      "Warning: Method definition floor(Type{T<:Integer},Rational{T<:Integer}) in module Compat at /home/juser/.julia/v0.3/Compat/src/Compat.jl:77 overwritten in module Compat at /home/juser/.julia/v0.3/Compat/src/Compat.jl:77.\n",
      "Warning: Method definition floor(Type{T},AbstractArray{R,1}) in module Compat at /home/juser/.julia/v0.3/Compat/src/Compat.jl:79 overwritten in module Compat at /home/juser/.julia/v0.3/Compat/src/Compat.jl:79.\n",
      "Warning: Method definition floor(Type{T},AbstractArray{R,2}) in module Compat at /home/juser/.julia/v0.3/Compat/src/Compat.jl:82 overwritten in module Compat at /home/juser/.julia/v0.3/Compat/src/Compat.jl:82.\n",
      "Warning: Method definition floor(Type{T},AbstractArray{T,N}) in module Compat at /home/juser/.julia/v0.3/Compat/src/Compat.jl:85 overwritten in module Compat at /home/juser/.julia/v0.3/Compat/src/Compat.jl:85.\n",
      "Warning: Method definition trunc(Type{T<:Integer},Integer) in module Compat at /home/juser/.julia/v0.3/Compat/src/Compat.jl:75 overwritten in module Compat at /home/juser/.julia/v0.3/Compat/src/Compat.jl:75.\n",
      "Warning: Method definition trunc(Type{T<:Integer},Real) in module Compat at /home/juser/.julia/v0.3/Compat/src/Compat.jl:76 overwritten in module Compat at /home/juser/.julia/v0.3/Compat/src/Compat.jl:76.\n",
      "Warning: Method definition trunc(Type{T<:Integer},Rational{T<:Integer}) in module Compat at /home/juser/.julia/v0.3/Compat/src/Compat.jl:77 overwritten in module Compat at /home/juser/.julia/v0.3/Compat/src/Compat.jl:77.\n",
      "Warning: Method definition trunc(Type{T},AbstractArray{R,1}) in module Compat at /home/juser/.julia/v0.3/Compat/src/Compat.jl:79 overwritten in module Compat at /home/juser/.julia/v0.3/Compat/src/Compat.jl:79.\n",
      "Warning: Method definition trunc(Type{T},AbstractArray{R,2}) in module Compat at /home/juser/.julia/v0.3/Compat/src/Compat.jl:82 overwritten in module Compat at /home/juser/.julia/v0.3/Compat/src/Compat.jl:82.\n",
      "Warning: Method definition trunc(Type{T},AbstractArray{T,N}) in module Compat at /home/juser/.julia/v0.3/Compat/src/Compat.jl:85 overwritten in module Compat at /home/juser/.julia/v0.3/Compat/src/Compat.jl:85.\n",
      "Warning: Method definition rand(Type{Bool},) in module Compat at /home/juser/.julia/v0.3/Compat/src/Compat.jl:192 overwritten in module Compat at /home/juser/.julia/v0.3/Compat/src/Compat.jl:192.\n",
      "Warning: Method definition parse(Type{T<:Integer},Char) in module Compat at /home/juser/.julia/v0.3/Compat/src/Compat.jl:213 overwritten in module Compat at /home/juser/.julia/v0.3/Compat/src/Compat.jl:213.\n",
      "Warning: Method definition parse(Type{T<:Integer},Char,Integer) in module Compat at /home/juser/.julia/v0.3/Compat/src/Compat.jl:214 overwritten in module Compat at /home/juser/.julia/v0.3/Compat/src/Compat.jl:214.\n",
      "Warning: Method definition parse(Type{T<:Integer},String) in module Compat at /home/juser/.julia/v0.3/Compat/src/Compat.jl:215 overwritten in module Compat at /home/juser/.julia/v0.3/Compat/src/Compat.jl:215.\n",
      "Warning: Method definition parse(Type{T<:Integer},String,Integer) in module Compat at /home/juser/.julia/v0.3/Compat/src/Compat.jl:216 overwritten in module Compat at /home/juser/.julia/v0.3/Compat/src/Compat.jl:216.\n",
      "Warning: Method definition parse(Type{T<:Union(Float32,Float64)},String) in module Compat at /home/juser/.julia/v0.3/Compat/src/Compat.jl:217 overwritten in module Compat at /home/juser/.julia/v0.3/Compat/src/Compat.jl:217.\n",
      "Warning: Method definition parse(Type{BigFloat},String) in module Compat at /home/juser/.julia/v0.3/Compat/src/Compat.jl:221 overwritten in module Compat at /home/juser/.julia/v0.3/Compat/src/Compat.jl:221.\n",
      "Warning: Method definition show() in module PyPlot at /home/juser/.julia/v0.3/PyPlot/src/PyPlot.jl:361 overwritten in module PyPlot at /home/juser/.julia/v0.3/PyPlot/src/PyPlot.jl:361.\n",
      "Warning: Method definition step(Any,Any) in module PyPlot at /home/juser/.julia/v0.3/PyPlot/src/PyPlot.jl:375 overwritten in module PyPlot at /home/juser/.julia/v0.3/PyPlot/src/PyPlot.jl:375.\n",
      "Warning: Method definition step(Array{T,N},Any,Any) in module PyPlot overwritten in module PyPlot.\n",
      "Warning: New definition \n",
      "    close(Union(Symbol,Figure,String,Integer),) at /home/juser/.julia/v0.3/PyPlot/src/PyPlot.jl:377\n",
      "is ambiguous with: \n",
      "    close(Union(Figure,Symbol,String,Integer),) at /home/juser/.julia/v0.3/PyPlot/src/PyPlot.jl:377.\n",
      "To fix, define \n",
      "    close(Union(Symbol,String,Integer),)\n",
      "before the new definition.\n",
      "Warning: Method definition close() in module PyPlot at /home/juser/.julia/v0.3/PyPlot/src/PyPlot.jl:378 overwritten in module PyPlot at /home/juser/.julia/v0.3/PyPlot/src/PyPlot.jl:378.\n",
      "Warning: Method definition connect(Union(Symbol,String),Function) in module PyPlot at /home/juser/.julia/v0.3/PyPlot/src/PyPlot.jl:380 overwritten in module PyPlot at /home/juser/.julia/v0.3/PyPlot/src/PyPlot.jl:380.\n",
      "Warning: Method definition fill(AbstractArray{T,N},AbstractArray{T,N},Any...) in module PyPlot at /home/juser/.julia/v0.3/PyPlot/src/PyPlot.jl:382 overwritten in module PyPlot at /home/juser/.julia/v0.3/PyPlot/src/PyPlot.jl:382.\n",
      "Warning: Method definition fill(Array{T,N},AbstractArray{T,N},AbstractArray{T,N},Any...) in module PyPlot overwritten in module PyPlot.\n"
     ]
    }
   ],
   "source": [
    "using PyPlot\n",
    "x0=[Interval(-1,1);Interval(-1,1)]\n",
    "Up=Float64[]\n",
    "Down=Float64[]\n",
    "for n=1:30\n",
    "    push!(Up,GaussSeidel(A,b,x0,n)[1].right)\n",
    "    push!(Down,GaussSeidel(A,b,x0,n)[1].left)\n",
    "end\n",
    "n=[i for i in 1:1:30];"
   ]
  },
  {
   "cell_type": "code",
   "execution_count": null,
   "metadata": {
    "collapsed": false
   },
   "outputs": [
    {
     "name": "stderr",
     "output_type": "stream",
     "text": [
      "WARNING: ccall Ptr argument types must now match exactly, or be Ptr{Void}.\n",
      " in PyObject at /home/juser/.julia/v0.3/PyCall/src/numpy.jl:187\n",
      " in map at tuple.jl:49\n",
      " in pycall at /home/juser/.julia/v0.3/PyCall/src/PyCall.jl:384\n",
      " in plot at /home/juser/.julia/v0.3/PyPlot/src/PyPlot.jl:371\n",
      " in include_string at loading.jl:97\n",
      " in execute_request_0x535c5df2 at /home/juser/.julia/v0.3/IJulia/src/execute_request.jl:157\n",
      " in eventloop at /home/juser/.julia/v0.3/IJulia/src/IJulia.jl:123\n",
      " in anonymous at task.jl:340\n",
      "WARNING: ccall Ptr argument types must now match exactly, or be Ptr{Void}.\n",
      " in PyObject at /home/juser/.julia/v0.3/PyCall/src/numpy.jl:187\n",
      " in map at tuple.jl:48\n",
      " in map at tuple.jl:49\n",
      " in pycall at /home/juser/.julia/v0.3/PyCall/src/PyCall.jl:384\n",
      " in plot at /home/juser/.julia/v0.3/PyPlot/src/PyPlot.jl:371\n",
      " in include_string at loading.jl:97\n",
      " in execute_request_0x535c5df2 at /home/juser/.julia/v0.3/IJulia/src/execute_request.jl:157\n",
      " in eventloop at /home/juser/.julia/v0.3/IJulia/src/IJulia.jl:123\n",
      " in anonymous at task.jl:340\n"
     ]
    }
   ],
   "source": [
    "plot(n,Up,n,Down)"
   ]
  },
  {
   "cell_type": "code",
   "execution_count": null,
   "metadata": {
    "collapsed": true
   },
   "outputs": [],
   "source": []
  }
 ],
 "metadata": {
  "kernelspec": {
   "display_name": "Julia 0.3.8",
   "language": "julia",
   "name": "julia-0.3"
  },
  "language_info": {
   "name": "julia",
   "version": "0.3.8"
  }
 },
 "nbformat": 4,
 "nbformat_minor": 0
}
